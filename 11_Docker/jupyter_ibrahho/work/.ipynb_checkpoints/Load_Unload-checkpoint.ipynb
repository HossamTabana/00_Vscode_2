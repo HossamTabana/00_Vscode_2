{
 "cells": [
  {
   "cell_type": "code",
   "execution_count": null,
   "metadata": {},
   "outputs": [],
   "source": [
    "mode = \"unload\"\n",
    "\n",
    "if mode == 'unload':\n",
    "    # Zip all files in the current directory\n",
    "    !tar chvfz notebook.tar.gz *\n",
    "\n",
    "elif mode == 'load':\n",
    "    # Unzip all files in the current directory\n",
    "    !tar -xv -f notebook.tar.gz\n"
   ]
  }
 ],
 "metadata": {
  "language_info": {
   "name": "python"
  }
 },
 "nbformat": 4,
 "nbformat_minor": 2
}

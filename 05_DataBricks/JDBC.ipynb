{
 "cells": [
  {
   "cell_type": "code",
   "execution_count": null,
   "metadata": {},
   "outputs": [],
   "source": [
    "import jaydebeapi\n",
    "import pandas as pd\n",
    "\n",
    "# JDBC connection parameters\n",
    "driver_class = \"com.simba.spark.jdbc.Driver\"\n",
    "jdbc_url = \"jdbc:spark://{Server hostname}:{Port}/{HTTP path};transportMode=http;ssl=1;httpPath={HTTP path};user={Username};password={Password}\"\n",
    "\n",
    "# Path to the Databricks JDBC driver JAR\n",
    "# Replace with the path to the JAR on your system\n",
    "jar_file = \"/path_to_jar/databricks-jdbc-driver.jar\"\n",
    "\n",
    "# Establish the connection\n",
    "conn = jaydebeapi.connect(driver_class, jdbc_url, [\"\", \"\"], jar_file)\n",
    "\n",
    "# Write and Execute SQL Query\n",
    "query = \"YOUR SQL QUERY HERE\"\n",
    "cursor = conn.cursor()\n",
    "cursor.execute(query)\n",
    "data = cursor.fetchall()\n",
    "\n",
    "# Convert to Pandas DataFrame\n",
    "columns = [desc[0] for desc in cursor.description]\n",
    "pandas_df = pd.DataFrame(data, columns=columns)\n",
    "\n",
    "# Close the cursor and connection\n",
    "cursor.close()\n",
    "conn.close()\n"
   ]
  },
  {
   "cell_type": "code",
   "execution_count": 1,
   "metadata": {},
   "outputs": [
    {
     "ename": "ModuleNotFoundError",
     "evalue": "No module named 'notebook.utils'",
     "output_type": "error",
     "traceback": [
      "\u001b[0;31m---------------------------------------------------------------------------\u001b[0m",
      "\u001b[0;31mModuleNotFoundError\u001b[0m                       Traceback (most recent call last)",
      "Cell \u001b[0;32mIn[1], line 1\u001b[0m\n\u001b[0;32m----> 1\u001b[0m get_ipython()\u001b[39m.\u001b[39;49mrun_line_magic(\u001b[39m'\u001b[39;49m\u001b[39mload_ext\u001b[39;49m\u001b[39m'\u001b[39;49m, \u001b[39m'\u001b[39;49m\u001b[39msparkmagic.magics\u001b[39;49m\u001b[39m'\u001b[39;49m)\n",
      "File \u001b[0;32m~/Library/Python/3.11/lib/python/site-packages/IPython/core/interactiveshell.py:2417\u001b[0m, in \u001b[0;36mInteractiveShell.run_line_magic\u001b[0;34m(self, magic_name, line, _stack_depth)\u001b[0m\n\u001b[1;32m   2415\u001b[0m     kwargs[\u001b[39m'\u001b[39m\u001b[39mlocal_ns\u001b[39m\u001b[39m'\u001b[39m] \u001b[39m=\u001b[39m \u001b[39mself\u001b[39m\u001b[39m.\u001b[39mget_local_scope(stack_depth)\n\u001b[1;32m   2416\u001b[0m \u001b[39mwith\u001b[39;00m \u001b[39mself\u001b[39m\u001b[39m.\u001b[39mbuiltin_trap:\n\u001b[0;32m-> 2417\u001b[0m     result \u001b[39m=\u001b[39m fn(\u001b[39m*\u001b[39;49margs, \u001b[39m*\u001b[39;49m\u001b[39m*\u001b[39;49mkwargs)\n\u001b[1;32m   2419\u001b[0m \u001b[39m# The code below prevents the output from being displayed\u001b[39;00m\n\u001b[1;32m   2420\u001b[0m \u001b[39m# when using magics with decodator @output_can_be_silenced\u001b[39;00m\n\u001b[1;32m   2421\u001b[0m \u001b[39m# when the last Python token in the expression is a ';'.\u001b[39;00m\n\u001b[1;32m   2422\u001b[0m \u001b[39mif\u001b[39;00m \u001b[39mgetattr\u001b[39m(fn, magic\u001b[39m.\u001b[39mMAGIC_OUTPUT_CAN_BE_SILENCED, \u001b[39mFalse\u001b[39;00m):\n",
      "File \u001b[0;32m~/Library/Python/3.11/lib/python/site-packages/IPython/core/magics/extension.py:33\u001b[0m, in \u001b[0;36mExtensionMagics.load_ext\u001b[0;34m(self, module_str)\u001b[0m\n\u001b[1;32m     31\u001b[0m \u001b[39mif\u001b[39;00m \u001b[39mnot\u001b[39;00m module_str:\n\u001b[1;32m     32\u001b[0m     \u001b[39mraise\u001b[39;00m UsageError(\u001b[39m'\u001b[39m\u001b[39mMissing module name.\u001b[39m\u001b[39m'\u001b[39m)\n\u001b[0;32m---> 33\u001b[0m res \u001b[39m=\u001b[39m \u001b[39mself\u001b[39;49m\u001b[39m.\u001b[39;49mshell\u001b[39m.\u001b[39;49mextension_manager\u001b[39m.\u001b[39;49mload_extension(module_str)\n\u001b[1;32m     35\u001b[0m \u001b[39mif\u001b[39;00m res \u001b[39m==\u001b[39m \u001b[39m'\u001b[39m\u001b[39malready loaded\u001b[39m\u001b[39m'\u001b[39m:\n\u001b[1;32m     36\u001b[0m     \u001b[39mprint\u001b[39m(\u001b[39m\"\u001b[39m\u001b[39mThe \u001b[39m\u001b[39m%s\u001b[39;00m\u001b[39m extension is already loaded. To reload it, use:\u001b[39m\u001b[39m\"\u001b[39m \u001b[39m%\u001b[39m module_str)\n",
      "File \u001b[0;32m~/Library/Python/3.11/lib/python/site-packages/IPython/core/extensions.py:76\u001b[0m, in \u001b[0;36mExtensionManager.load_extension\u001b[0;34m(self, module_str)\u001b[0m\n\u001b[1;32m     69\u001b[0m \u001b[39m\u001b[39m\u001b[39m\"\"\"Load an IPython extension by its module name.\u001b[39;00m\n\u001b[1;32m     70\u001b[0m \n\u001b[1;32m     71\u001b[0m \u001b[39mReturns the string \"already loaded\" if the extension is already loaded,\u001b[39;00m\n\u001b[1;32m     72\u001b[0m \u001b[39m\"no load function\" if the module doesn't have a load_ipython_extension\u001b[39;00m\n\u001b[1;32m     73\u001b[0m \u001b[39mfunction, or None if it succeeded.\u001b[39;00m\n\u001b[1;32m     74\u001b[0m \u001b[39m\"\"\"\u001b[39;00m\n\u001b[1;32m     75\u001b[0m \u001b[39mtry\u001b[39;00m:\n\u001b[0;32m---> 76\u001b[0m     \u001b[39mreturn\u001b[39;00m \u001b[39mself\u001b[39;49m\u001b[39m.\u001b[39;49m_load_extension(module_str)\n\u001b[1;32m     77\u001b[0m \u001b[39mexcept\u001b[39;00m \u001b[39mModuleNotFoundError\u001b[39;00m:\n\u001b[1;32m     78\u001b[0m     \u001b[39mif\u001b[39;00m module_str \u001b[39min\u001b[39;00m BUILTINS_EXTS:\n",
      "File \u001b[0;32m~/Library/Python/3.11/lib/python/site-packages/IPython/core/extensions.py:91\u001b[0m, in \u001b[0;36mExtensionManager._load_extension\u001b[0;34m(self, module_str)\u001b[0m\n\u001b[1;32m     89\u001b[0m \u001b[39mwith\u001b[39;00m \u001b[39mself\u001b[39m\u001b[39m.\u001b[39mshell\u001b[39m.\u001b[39mbuiltin_trap:\n\u001b[1;32m     90\u001b[0m     \u001b[39mif\u001b[39;00m module_str \u001b[39mnot\u001b[39;00m \u001b[39min\u001b[39;00m sys\u001b[39m.\u001b[39mmodules:\n\u001b[0;32m---> 91\u001b[0m         mod \u001b[39m=\u001b[39m import_module(module_str)\n\u001b[1;32m     92\u001b[0m     mod \u001b[39m=\u001b[39m sys\u001b[39m.\u001b[39mmodules[module_str]\n\u001b[1;32m     93\u001b[0m     \u001b[39mif\u001b[39;00m \u001b[39mself\u001b[39m\u001b[39m.\u001b[39m_call_load_ipython_extension(mod):\n",
      "File \u001b[0;32m/Library/Frameworks/Python.framework/Versions/3.11/lib/python3.11/importlib/__init__.py:126\u001b[0m, in \u001b[0;36mimport_module\u001b[0;34m(name, package)\u001b[0m\n\u001b[1;32m    124\u001b[0m             \u001b[39mbreak\u001b[39;00m\n\u001b[1;32m    125\u001b[0m         level \u001b[39m+\u001b[39m\u001b[39m=\u001b[39m \u001b[39m1\u001b[39m\n\u001b[0;32m--> 126\u001b[0m \u001b[39mreturn\u001b[39;00m _bootstrap\u001b[39m.\u001b[39;49m_gcd_import(name[level:], package, level)\n",
      "File \u001b[0;32m<frozen importlib._bootstrap>:1204\u001b[0m, in \u001b[0;36m_gcd_import\u001b[0;34m(name, package, level)\u001b[0m\n",
      "File \u001b[0;32m<frozen importlib._bootstrap>:1176\u001b[0m, in \u001b[0;36m_find_and_load\u001b[0;34m(name, import_)\u001b[0m\n",
      "File \u001b[0;32m<frozen importlib._bootstrap>:1126\u001b[0m, in \u001b[0;36m_find_and_load_unlocked\u001b[0;34m(name, import_)\u001b[0m\n",
      "File \u001b[0;32m<frozen importlib._bootstrap>:241\u001b[0m, in \u001b[0;36m_call_with_frames_removed\u001b[0;34m(f, *args, **kwds)\u001b[0m\n",
      "File \u001b[0;32m<frozen importlib._bootstrap>:1204\u001b[0m, in \u001b[0;36m_gcd_import\u001b[0;34m(name, package, level)\u001b[0m\n",
      "File \u001b[0;32m<frozen importlib._bootstrap>:1176\u001b[0m, in \u001b[0;36m_find_and_load\u001b[0;34m(name, import_)\u001b[0m\n",
      "File \u001b[0;32m<frozen importlib._bootstrap>:1147\u001b[0m, in \u001b[0;36m_find_and_load_unlocked\u001b[0;34m(name, import_)\u001b[0m\n",
      "File \u001b[0;32m<frozen importlib._bootstrap>:690\u001b[0m, in \u001b[0;36m_load_unlocked\u001b[0;34m(spec)\u001b[0m\n",
      "File \u001b[0;32m<frozen importlib._bootstrap_external>:940\u001b[0m, in \u001b[0;36mexec_module\u001b[0;34m(self, module)\u001b[0m\n",
      "File \u001b[0;32m<frozen importlib._bootstrap>:241\u001b[0m, in \u001b[0;36m_call_with_frames_removed\u001b[0;34m(f, *args, **kwds)\u001b[0m\n",
      "File \u001b[0;32m/Library/Frameworks/Python.framework/Versions/3.11/lib/python3.11/site-packages/sparkmagic/__init__.py:3\u001b[0m\n\u001b[1;32m      1\u001b[0m __version__ \u001b[39m=\u001b[39m \u001b[39m\"\u001b[39m\u001b[39m0.20.5\u001b[39m\u001b[39m\"\u001b[39m\n\u001b[0;32m----> 3\u001b[0m \u001b[39mfrom\u001b[39;00m \u001b[39msparkmagic\u001b[39;00m\u001b[39m.\u001b[39;00m\u001b[39mserverextension\u001b[39;00m\u001b[39m.\u001b[39;00m\u001b[39mhandlers\u001b[39;00m \u001b[39mimport\u001b[39;00m load_jupyter_server_extension\n\u001b[1;32m      6\u001b[0m \u001b[39mdef\u001b[39;00m \u001b[39m_jupyter_server_extension_paths\u001b[39m():\n\u001b[1;32m      7\u001b[0m     \u001b[39mreturn\u001b[39;00m [{\u001b[39m\"\u001b[39m\u001b[39mmodule\u001b[39m\u001b[39m\"\u001b[39m: \u001b[39m\"\u001b[39m\u001b[39msparkmagic\u001b[39m\u001b[39m\"\u001b[39m}]\n",
      "File \u001b[0;32m/Library/Frameworks/Python.framework/Versions/3.11/lib/python3.11/site-packages/sparkmagic/serverextension/handlers.py:2\u001b[0m\n\u001b[1;32m      1\u001b[0m \u001b[39mimport\u001b[39;00m \u001b[39mjson\u001b[39;00m\n\u001b[0;32m----> 2\u001b[0m \u001b[39mfrom\u001b[39;00m \u001b[39mnotebook\u001b[39;00m\u001b[39m.\u001b[39;00m\u001b[39mutils\u001b[39;00m \u001b[39mimport\u001b[39;00m url_path_join\n\u001b[1;32m      3\u001b[0m \u001b[39mfrom\u001b[39;00m \u001b[39mnotebook\u001b[39;00m\u001b[39m.\u001b[39;00m\u001b[39mbase\u001b[39;00m\u001b[39m.\u001b[39;00m\u001b[39mhandlers\u001b[39;00m \u001b[39mimport\u001b[39;00m IPythonHandler\n\u001b[1;32m      4\u001b[0m \u001b[39mfrom\u001b[39;00m \u001b[39mtornado\u001b[39;00m \u001b[39mimport\u001b[39;00m web\n",
      "\u001b[0;31mModuleNotFoundError\u001b[0m: No module named 'notebook.utils'"
     ]
    }
   ],
   "source": [
    "%load_ext sparkmagic.magics"
   ]
  },
  {
   "cell_type": "code",
   "execution_count": 2,
   "metadata": {},
   "outputs": [],
   "source": [
    "SERVER_HOSTNAME = \"dbc-e8a19a56-498f.cloud.databricks.com\"\n",
    "PORT = \"443\"\n",
    "PROTOCOL = \"https\"  # Typically 'http' or 'https'\n",
    "HTTP_PATH = \"/sql/1.0/warehouses/e48bc81cda58b13b\"\n",
    "USERNAME = \"Hossam.Ibrahim@hlag.com\"\n",
    "\n"
   ]
  },
  {
   "cell_type": "code",
   "execution_count": 3,
   "metadata": {},
   "outputs": [],
   "source": [
    "JDBC_URL = (f\"jdbc:{PROTOCOL}://{SERVER_HOSTNAME}:{PORT}/{HTTP_PATH};\"\n",
    "            f\"transportMode=http;ssl=1;httpPath={HTTP_PATH};\"\n",
    "            f\"user={USERNAME};password={PASSWORD}\")\n"
   ]
  },
  {
   "cell_type": "code",
   "execution_count": 4,
   "metadata": {},
   "outputs": [
    {
     "ename": "TypeError",
     "evalue": "Class com.simba.spark.jdbc.Driver is not found\n",
     "output_type": "error",
     "traceback": [
      "\u001b[0;31m---------------------------------------------------------------------------\u001b[0m",
      "\u001b[0;31mTypeError\u001b[0m                                 Traceback (most recent call last)",
      "Cell \u001b[0;32mIn[4], line 12\u001b[0m\n\u001b[1;32m      9\u001b[0m JAR_FILE \u001b[39m=\u001b[39m \u001b[39m\"\u001b[39m\u001b[39m/Users/hossamtabana/Downloads/DatabricksJDBC42-2.6.33.1055/DatabricksJDBC42.jar\u001b[39m\u001b[39m\"\u001b[39m\n\u001b[1;32m     11\u001b[0m \u001b[39m# Establish the connection\u001b[39;00m\n\u001b[0;32m---> 12\u001b[0m conn \u001b[39m=\u001b[39m jaydebeapi\u001b[39m.\u001b[39;49mconnect(DRIVER_CLASS, JDBC_URL, [\u001b[39m\"\u001b[39;49m\u001b[39m\"\u001b[39;49m, \u001b[39m\"\u001b[39;49m\u001b[39m\"\u001b[39;49m], JAR_FILE)\n\u001b[1;32m     14\u001b[0m \u001b[39m# Example SQL Query\u001b[39;00m\n\u001b[1;32m     15\u001b[0m query \u001b[39m=\u001b[39m \u001b[39m\"\u001b[39m\u001b[39mselect * from sfa_dl_bronze_prod.fis2.db2prod_tc0080 limit 100;\u001b[39m\u001b[39m\"\u001b[39m\n",
      "File \u001b[0;32m/Library/Frameworks/Python.framework/Versions/3.11/lib/python3.11/site-packages/jaydebeapi/__init__.py:412\u001b[0m, in \u001b[0;36mconnect\u001b[0;34m(jclassname, url, driver_args, jars, libs)\u001b[0m\n\u001b[1;32m    410\u001b[0m \u001b[39melse\u001b[39;00m:\n\u001b[1;32m    411\u001b[0m     libs \u001b[39m=\u001b[39m []\n\u001b[0;32m--> 412\u001b[0m jconn \u001b[39m=\u001b[39m _jdbc_connect(jclassname, url, driver_args, jars, libs)\n\u001b[1;32m    413\u001b[0m \u001b[39mreturn\u001b[39;00m Connection(jconn, _converters)\n",
      "File \u001b[0;32m/Library/Frameworks/Python.framework/Versions/3.11/lib/python3.11/site-packages/jaydebeapi/__init__.py:221\u001b[0m, in \u001b[0;36m_jdbc_connect_jpype\u001b[0;34m(jclassname, url, driver_args, jars, libs)\u001b[0m\n\u001b[1;32m    219\u001b[0m         \u001b[39mreturn\u001b[39;00m jpype\u001b[39m.\u001b[39mJArray(jpype\u001b[39m.\u001b[39mJByte, \u001b[39m1\u001b[39m)(data)\n\u001b[1;32m    220\u001b[0m \u001b[39m# register driver for DriverManager\u001b[39;00m\n\u001b[0;32m--> 221\u001b[0m jpype\u001b[39m.\u001b[39;49mJClass(jclassname)\n\u001b[1;32m    222\u001b[0m \u001b[39mif\u001b[39;00m \u001b[39misinstance\u001b[39m(driver_args, \u001b[39mdict\u001b[39m):\n\u001b[1;32m    223\u001b[0m     Properties \u001b[39m=\u001b[39m jpype\u001b[39m.\u001b[39mjava\u001b[39m.\u001b[39mutil\u001b[39m.\u001b[39mProperties\n",
      "File \u001b[0;32m/Library/Frameworks/Python.framework/Versions/3.11/lib/python3.11/site-packages/jpype/_jclass.py:99\u001b[0m, in \u001b[0;36mJClass.__new__\u001b[0;34m(cls, jc, loader, initialize)\u001b[0m\n\u001b[1;32m     96\u001b[0m     \u001b[39mreturn\u001b[39;00m ret\n\u001b[1;32m     98\u001b[0m \u001b[39m# Pass to class factory to create the type\u001b[39;00m\n\u001b[0;32m---> 99\u001b[0m \u001b[39mreturn\u001b[39;00m _jpype\u001b[39m.\u001b[39m_getClass(jc)\n",
      "\u001b[0;31mTypeError\u001b[0m: Class com.simba.spark.jdbc.Driver is not found\n"
     ]
    }
   ],
   "source": [
    "import jaydebeapi\n",
    "import pandas as pd\n",
    "\n",
    "# JDBC Driver class for Databricks (make sure you have the corresponding JDBC driver)\n",
    "DRIVER_CLASS = \"com.simba.spark.jdbc.Driver\"\n",
    "\n",
    "# Path to the Databricks JDBC driver JAR. \n",
    "# Adjust this to the correct location of your downloaded JDBC driver.\n",
    "JAR_FILE = \"/Users/hossamtabana/Downloads/DatabricksJDBC42-2.6.33.1055/DatabricksJDBC42.jar\"\n",
    "\n",
    "# Establish the connection\n",
    "conn = jaydebeapi.connect(DRIVER_CLASS, JDBC_URL, [\"\", \"\"], JAR_FILE)\n",
    "\n",
    "# Example SQL Query\n",
    "query = \"select * from sfa_dl_bronze_prod.fis2.db2prod_tc0080 limit 100;\"\n",
    "cursor = conn.cursor()\n",
    "cursor.execute(query)\n",
    "data = cursor.fetchall()\n",
    "\n",
    "# Convert data to Pandas DataFrame\n",
    "columns = [desc[0] for desc in cursor.description]\n",
    "pandas_df = pd.DataFrame(data, columns=columns)\n",
    "\n",
    "# Close the cursor and connection for cleanup\n",
    "cursor.close()\n",
    "conn.close()\n"
   ]
  },
  {
   "cell_type": "code",
   "execution_count": 5,
   "metadata": {},
   "outputs": [
    {
     "ename": "TypeError",
     "evalue": "Class com.simba.spark.jdbc.Driver is not found\n",
     "output_type": "error",
     "traceback": [
      "\u001b[0;31m---------------------------------------------------------------------------\u001b[0m",
      "\u001b[0;31mTypeError\u001b[0m                                 Traceback (most recent call last)",
      "Cell \u001b[0;32mIn[5], line 24\u001b[0m\n\u001b[1;32m     21\u001b[0m JAR_FILE \u001b[39m=\u001b[39m \u001b[39m\"\u001b[39m\u001b[39m/Users/hossamtabana/Downloads/DatabricksJDBC42-2.6.33.1055/DatabricksJDBC42.jar\u001b[39m\u001b[39m\"\u001b[39m\n\u001b[1;32m     23\u001b[0m \u001b[39m# Establish the connection\u001b[39;00m\n\u001b[0;32m---> 24\u001b[0m conn \u001b[39m=\u001b[39m jaydebeapi\u001b[39m.\u001b[39;49mconnect(DRIVER_CLASS, JDBC_URL, [\u001b[39m\"\u001b[39;49m\u001b[39m\"\u001b[39;49m, \u001b[39m\"\u001b[39;49m\u001b[39m\"\u001b[39;49m], JAR_FILE)\n\u001b[1;32m     26\u001b[0m \u001b[39m# Example SQL Query\u001b[39;00m\n\u001b[1;32m     27\u001b[0m query \u001b[39m=\u001b[39m \u001b[39m\"\u001b[39m\u001b[39mselect * from sfa_dl_bronze_prod.fis2.db2prod_tc0080 limit 100;\u001b[39m\u001b[39m\"\u001b[39m\n",
      "File \u001b[0;32m/Library/Frameworks/Python.framework/Versions/3.11/lib/python3.11/site-packages/jaydebeapi/__init__.py:412\u001b[0m, in \u001b[0;36mconnect\u001b[0;34m(jclassname, url, driver_args, jars, libs)\u001b[0m\n\u001b[1;32m    410\u001b[0m \u001b[39melse\u001b[39;00m:\n\u001b[1;32m    411\u001b[0m     libs \u001b[39m=\u001b[39m []\n\u001b[0;32m--> 412\u001b[0m jconn \u001b[39m=\u001b[39m _jdbc_connect(jclassname, url, driver_args, jars, libs)\n\u001b[1;32m    413\u001b[0m \u001b[39mreturn\u001b[39;00m Connection(jconn, _converters)\n",
      "File \u001b[0;32m/Library/Frameworks/Python.framework/Versions/3.11/lib/python3.11/site-packages/jaydebeapi/__init__.py:221\u001b[0m, in \u001b[0;36m_jdbc_connect_jpype\u001b[0;34m(jclassname, url, driver_args, jars, libs)\u001b[0m\n\u001b[1;32m    219\u001b[0m         \u001b[39mreturn\u001b[39;00m jpype\u001b[39m.\u001b[39mJArray(jpype\u001b[39m.\u001b[39mJByte, \u001b[39m1\u001b[39m)(data)\n\u001b[1;32m    220\u001b[0m \u001b[39m# register driver for DriverManager\u001b[39;00m\n\u001b[0;32m--> 221\u001b[0m jpype\u001b[39m.\u001b[39;49mJClass(jclassname)\n\u001b[1;32m    222\u001b[0m \u001b[39mif\u001b[39;00m \u001b[39misinstance\u001b[39m(driver_args, \u001b[39mdict\u001b[39m):\n\u001b[1;32m    223\u001b[0m     Properties \u001b[39m=\u001b[39m jpype\u001b[39m.\u001b[39mjava\u001b[39m.\u001b[39mutil\u001b[39m.\u001b[39mProperties\n",
      "File \u001b[0;32m/Library/Frameworks/Python.framework/Versions/3.11/lib/python3.11/site-packages/jpype/_jclass.py:99\u001b[0m, in \u001b[0;36mJClass.__new__\u001b[0;34m(cls, jc, loader, initialize)\u001b[0m\n\u001b[1;32m     96\u001b[0m     \u001b[39mreturn\u001b[39;00m ret\n\u001b[1;32m     98\u001b[0m \u001b[39m# Pass to class factory to create the type\u001b[39;00m\n\u001b[0;32m---> 99\u001b[0m \u001b[39mreturn\u001b[39;00m _jpype\u001b[39m.\u001b[39m_getClass(jc)\n",
      "\u001b[0;31mTypeError\u001b[0m: Class com.simba.spark.jdbc.Driver is not found\n"
     ]
    }
   ],
   "source": [
    "import jaydebeapi\n",
    "import pandas as pd\n",
    "\n",
    "# Define your Connection Parameters\n",
    "\"\"\"\n",
    "SERVER_HOSTNAME = \"your_server_hostname_here\"\n",
    "PORT = \"your_port_here\"\n",
    "PROTOCOL = \"your_protocol_here\"  # Typically 'http' or 'https'\n",
    "HTTP_PATH = \"your_http_path_here\"\n",
    "USERNAME = \"your_username_here\"\n",
    "PASSWORD = \"your_password_here\"\n",
    "\"\"\"\n",
    "\n",
    "# Construct the JDBC URL\n",
    "JDBC_URL = (f\"jdbc:{PROTOCOL}://{SERVER_HOSTNAME}:{PORT}/{HTTP_PATH};\"\n",
    "            f\"transportMode=http;ssl=1;httpPath={HTTP_PATH};\"\n",
    "            f\"user={USERNAME};password={PASSWORD}\")\n",
    "\n",
    "# JDBC Driver class for Databricks\n",
    "DRIVER_CLASS = \"com.simba.spark.jdbc.Driver\"\n",
    "JAR_FILE = \"/Users/hossamtabana/Downloads/DatabricksJDBC42-2.6.33.1055/DatabricksJDBC42.jar\"\n",
    "\n",
    "# Establish the connection\n",
    "conn = jaydebeapi.connect(DRIVER_CLASS, JDBC_URL, [\"\", \"\"], JAR_FILE)\n",
    "\n",
    "# Example SQL Query\n",
    "query = \"select * from sfa_dl_bronze_prod.fis2.db2prod_tc0080 limit 100;\"\n",
    "cursor = conn.cursor()\n",
    "cursor.execute(query)\n",
    "data = cursor.fetchall()\n",
    "\n",
    "# Convert data to Pandas DataFrame\n",
    "columns = [desc[0] for desc in cursor.description]\n",
    "pandas_df = pd.DataFrame(data, columns=columns)\n",
    "\n",
    "# Close the cursor and connection for cleanup\n",
    "cursor.close()\n",
    "conn.close()\n"
   ]
  },
  {
   "cell_type": "code",
   "execution_count": 1,
   "metadata": {},
   "outputs": [
    {
     "ename": "TypeError",
     "evalue": "Class com.simba.spark.jdbc.Driver is not found\n",
     "output_type": "error",
     "traceback": [
      "\u001b[0;31m---------------------------------------------------------------------------\u001b[0m",
      "\u001b[0;31mTypeError\u001b[0m                                 Traceback (most recent call last)",
      "Cell \u001b[0;32mIn[1], line 22\u001b[0m\n\u001b[1;32m     19\u001b[0m JAR_FILE \u001b[39m=\u001b[39m \u001b[39m\"\u001b[39m\u001b[39m/DatabricksJDBC42.jar\u001b[39m\u001b[39m\"\u001b[39m\n\u001b[1;32m     21\u001b[0m \u001b[39m# Establish the connection\u001b[39;00m\n\u001b[0;32m---> 22\u001b[0m conn \u001b[39m=\u001b[39m jaydebeapi\u001b[39m.\u001b[39;49mconnect(DRIVER_CLASS, JDBC_URL, [\u001b[39m\"\u001b[39;49m\u001b[39m\"\u001b[39;49m, \u001b[39m\"\u001b[39;49m\u001b[39m\"\u001b[39;49m], JAR_FILE)\n\u001b[1;32m     24\u001b[0m \u001b[39m# Example SQL Query\u001b[39;00m\n\u001b[1;32m     25\u001b[0m query \u001b[39m=\u001b[39m \u001b[39m\"\u001b[39m\u001b[39mselect * from sfa_dl_bronze_prod.fis2.db2prod_tc0080 limit 100;\u001b[39m\u001b[39m\"\u001b[39m\n",
      "File \u001b[0;32m/Library/Frameworks/Python.framework/Versions/3.11/lib/python3.11/site-packages/jaydebeapi/__init__.py:412\u001b[0m, in \u001b[0;36mconnect\u001b[0;34m(jclassname, url, driver_args, jars, libs)\u001b[0m\n\u001b[1;32m    410\u001b[0m \u001b[39melse\u001b[39;00m:\n\u001b[1;32m    411\u001b[0m     libs \u001b[39m=\u001b[39m []\n\u001b[0;32m--> 412\u001b[0m jconn \u001b[39m=\u001b[39m _jdbc_connect(jclassname, url, driver_args, jars, libs)\n\u001b[1;32m    413\u001b[0m \u001b[39mreturn\u001b[39;00m Connection(jconn, _converters)\n",
      "File \u001b[0;32m/Library/Frameworks/Python.framework/Versions/3.11/lib/python3.11/site-packages/jaydebeapi/__init__.py:221\u001b[0m, in \u001b[0;36m_jdbc_connect_jpype\u001b[0;34m(jclassname, url, driver_args, jars, libs)\u001b[0m\n\u001b[1;32m    219\u001b[0m         \u001b[39mreturn\u001b[39;00m jpype\u001b[39m.\u001b[39mJArray(jpype\u001b[39m.\u001b[39mJByte, \u001b[39m1\u001b[39m)(data)\n\u001b[1;32m    220\u001b[0m \u001b[39m# register driver for DriverManager\u001b[39;00m\n\u001b[0;32m--> 221\u001b[0m jpype\u001b[39m.\u001b[39;49mJClass(jclassname)\n\u001b[1;32m    222\u001b[0m \u001b[39mif\u001b[39;00m \u001b[39misinstance\u001b[39m(driver_args, \u001b[39mdict\u001b[39m):\n\u001b[1;32m    223\u001b[0m     Properties \u001b[39m=\u001b[39m jpype\u001b[39m.\u001b[39mjava\u001b[39m.\u001b[39mutil\u001b[39m.\u001b[39mProperties\n",
      "File \u001b[0;32m/Library/Frameworks/Python.framework/Versions/3.11/lib/python3.11/site-packages/jpype/_jclass.py:99\u001b[0m, in \u001b[0;36mJClass.__new__\u001b[0;34m(cls, jc, loader, initialize)\u001b[0m\n\u001b[1;32m     96\u001b[0m     \u001b[39mreturn\u001b[39;00m ret\n\u001b[1;32m     98\u001b[0m \u001b[39m# Pass to class factory to create the type\u001b[39;00m\n\u001b[0;32m---> 99\u001b[0m \u001b[39mreturn\u001b[39;00m _jpype\u001b[39m.\u001b[39m_getClass(jc)\n",
      "\u001b[0;31mTypeError\u001b[0m: Class com.simba.spark.jdbc.Driver is not found\n"
     ]
    }
   ],
   "source": [
    "import jaydebeapi\n",
    "import pandas as pd\n",
    "\n",
    "# Connection Parameters\n",
    "SERVER_HOSTNAME = \"dbc-e8a19a56-498f.cloud.databricks.com\"\n",
    "PORT = \"443\"\n",
    "PROTOCOL = \"https\"  # Typically 'http' or 'https'\n",
    "HTTP_PATH = \"/sql/1.0/warehouses/e48bc81cda58b13b\"\n",
    "USERNAME = \"Hossam.Ibrahim@hlag.com\"\n",
    "PASSWORD = \n",
    "\n",
    "# Construct the JDBC URL\n",
    "JDBC_URL = (f\"jdbc:{PROTOCOL}://{SERVER_HOSTNAME}:{PORT}/{HTTP_PATH};\"\n",
    "            f\"transportMode=http;ssl=1;httpPath={HTTP_PATH};\"\n",
    "            f\"user={USERNAME};password={PASSWORD}\")\n",
    "\n",
    "# JDBC Driver class for Databricks\n",
    "DRIVER_CLASS = \"com.simba.spark.jdbc.Driver\"\n",
    "JAR_FILE = \"/DatabricksJDBC42.jar\"\n",
    "\n",
    "# Establish the connection\n",
    "conn = jaydebeapi.connect(DRIVER_CLASS, JDBC_URL, [\"\", \"\"], JAR_FILE)\n",
    "\n",
    "# Example SQL Query\n",
    "query = \"select * from sfa_dl_bronze_prod.fis2.db2prod_tc0080 limit 100;\"\n",
    "cursor = conn.cursor()\n",
    "cursor.execute(query)\n",
    "data = cursor.fetchall()\n",
    "\n",
    "# Convert data to Pandas DataFrame\n",
    "columns = [desc[0] for desc in cursor.description]\n",
    "pandas_df = pd.DataFrame(data, columns=columns)\n",
    "\n",
    "# Close the cursor and connection for cleanup\n",
    "cursor.close()\n",
    "conn.close()\n"
   ]
  },
  {
   "cell_type": "code",
   "execution_count": null,
   "metadata": {},
   "outputs": [],
   "source": []
  }
 ],
 "metadata": {
  "kernelspec": {
   "display_name": "Python 3",
   "language": "python",
   "name": "python3"
  },
  "language_info": {
   "codemirror_mode": {
    "name": "ipython",
    "version": 3
   },
   "file_extension": ".py",
   "mimetype": "text/x-python",
   "name": "python",
   "nbconvert_exporter": "python",
   "pygments_lexer": "ipython3",
   "version": "3.11.4"
  },
  "orig_nbformat": 4
 },
 "nbformat": 4,
 "nbformat_minor": 2
}

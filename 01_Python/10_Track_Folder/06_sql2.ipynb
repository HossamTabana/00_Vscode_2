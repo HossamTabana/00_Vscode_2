{
 "cells": [
  {
   "cell_type": "code",
   "execution_count": 7,
   "metadata": {},
   "outputs": [],
   "source": [
    "import sqlite3\n",
    "import pandas as pd"
   ]
  },
  {
   "cell_type": "code",
   "execution_count": 8,
   "metadata": {},
   "outputs": [],
   "source": [
    "conn = sqlite3.connect('/Users/hossamtabana/Library/Mobile Documents/com~apple~CloudDocs/Hossam_files/01_Developer/00_Vscode_2/file_changes.db')\n",
    "cursor = conn.cursor()"
   ]
  },
  {
   "cell_type": "code",
   "execution_count": 9,
   "metadata": {},
   "outputs": [],
   "source": [
    "\n",
    "# Check if the table exists\n",
    "cursor.execute(\"SELECT name FROM sqlite_master WHERE type='table' AND name='db_track';\")\n",
    "if not cursor.fetchone():\n",
    "    print(\"Table db_track does not exist in the database!\")\n",
    "else:\n",
    "    df = pd.read_sql_query(\"SELECT * FROM db_track\", conn)\n",
    "    #print(df)"
   ]
  },
  {
   "cell_type": "code",
   "execution_count": 10,
   "metadata": {},
   "outputs": [],
   "source": [
    "conn.close()"
   ]
  },
  {
   "cell_type": "code",
   "execution_count": 11,
   "metadata": {},
   "outputs": [
    {
     "data": {
      "text/html": [
       "<div>\n",
       "<style scoped>\n",
       "    .dataframe tbody tr th:only-of-type {\n",
       "        vertical-align: middle;\n",
       "    }\n",
       "\n",
       "    .dataframe tbody tr th {\n",
       "        vertical-align: top;\n",
       "    }\n",
       "\n",
       "    .dataframe thead th {\n",
       "        text-align: right;\n",
       "    }\n",
       "</style>\n",
       "<table border=\"1\" class=\"dataframe\">\n",
       "  <thead>\n",
       "    <tr style=\"text-align: right;\">\n",
       "      <th></th>\n",
       "      <th>id</th>\n",
       "      <th>timestamp</th>\n",
       "      <th>file_created_date</th>\n",
       "      <th>file_path</th>\n",
       "      <th>file_updated_date</th>\n",
       "      <th>file_deleted_date</th>\n",
       "      <th>file_name</th>\n",
       "      <th>event_type</th>\n",
       "    </tr>\n",
       "  </thead>\n",
       "  <tbody>\n",
       "    <tr>\n",
       "      <th>0</th>\n",
       "      <td>1</td>\n",
       "      <td>2023-09-15 06:54:21</td>\n",
       "      <td>2023-09-15 06:54:21</td>\n",
       "      <td>/Users/hossamtabana/Downloads/track/export cop...</td>\n",
       "      <td>2023-09-15 06:50:11</td>\n",
       "      <td>None</td>\n",
       "      <td>export copy 8.csv</td>\n",
       "      <td>modified</td>\n",
       "    </tr>\n",
       "    <tr>\n",
       "      <th>1</th>\n",
       "      <td>2</td>\n",
       "      <td>2023-09-15 06:55:09</td>\n",
       "      <td>2023-09-15 06:55:09</td>\n",
       "      <td>/Users/hossamtabana/Downloads/track/.DS_Store</td>\n",
       "      <td>2023-09-15 06:55:09</td>\n",
       "      <td>None</td>\n",
       "      <td>.DS_Store</td>\n",
       "      <td>modified</td>\n",
       "    </tr>\n",
       "    <tr>\n",
       "      <th>2</th>\n",
       "      <td>3</td>\n",
       "      <td>2023-09-15 06:56:50</td>\n",
       "      <td>2023-09-15 06:56:50</td>\n",
       "      <td>/Users/hossamtabana/Downloads/track/export1.csv</td>\n",
       "      <td>2023-09-14 23:25:45</td>\n",
       "      <td>None</td>\n",
       "      <td>export1.csv</td>\n",
       "      <td>modified</td>\n",
       "    </tr>\n",
       "    <tr>\n",
       "      <th>3</th>\n",
       "      <td>4</td>\n",
       "      <td>2023-09-15 06:59:08</td>\n",
       "      <td>2023-09-15 06:59:08</td>\n",
       "      <td>/Users/hossamtabana/Downloads/track/track.numbers</td>\n",
       "      <td>2023-09-14 23:22:38</td>\n",
       "      <td>None</td>\n",
       "      <td>track.numbers</td>\n",
       "      <td>modified</td>\n",
       "    </tr>\n",
       "    <tr>\n",
       "      <th>4</th>\n",
       "      <td>5</td>\n",
       "      <td>2023-09-15 06:59:09</td>\n",
       "      <td>2023-09-15 06:59:08</td>\n",
       "      <td>/Users/hossamtabana/Downloads/track/track copy...</td>\n",
       "      <td>2023-09-14 23:22:38</td>\n",
       "      <td>None</td>\n",
       "      <td>track copy.numbers</td>\n",
       "      <td>modified</td>\n",
       "    </tr>\n",
       "  </tbody>\n",
       "</table>\n",
       "</div>"
      ],
      "text/plain": [
       "   id            timestamp    file_created_date  \\\n",
       "0   1  2023-09-15 06:54:21  2023-09-15 06:54:21   \n",
       "1   2  2023-09-15 06:55:09  2023-09-15 06:55:09   \n",
       "2   3  2023-09-15 06:56:50  2023-09-15 06:56:50   \n",
       "3   4  2023-09-15 06:59:08  2023-09-15 06:59:08   \n",
       "4   5  2023-09-15 06:59:09  2023-09-15 06:59:08   \n",
       "\n",
       "                                           file_path    file_updated_date  \\\n",
       "0  /Users/hossamtabana/Downloads/track/export cop...  2023-09-15 06:50:11   \n",
       "1      /Users/hossamtabana/Downloads/track/.DS_Store  2023-09-15 06:55:09   \n",
       "2    /Users/hossamtabana/Downloads/track/export1.csv  2023-09-14 23:25:45   \n",
       "3  /Users/hossamtabana/Downloads/track/track.numbers  2023-09-14 23:22:38   \n",
       "4  /Users/hossamtabana/Downloads/track/track copy...  2023-09-14 23:22:38   \n",
       "\n",
       "  file_deleted_date           file_name event_type  \n",
       "0              None   export copy 8.csv   modified  \n",
       "1              None           .DS_Store   modified  \n",
       "2              None         export1.csv   modified  \n",
       "3              None       track.numbers   modified  \n",
       "4              None  track copy.numbers   modified  "
      ]
     },
     "execution_count": 11,
     "metadata": {},
     "output_type": "execute_result"
    }
   ],
   "source": [
    "df"
   ]
  },
  {
   "cell_type": "code",
   "execution_count": 6,
   "metadata": {},
   "outputs": [],
   "source": [
    "#df['timestamp'] = pd.to_datetime(df['timestamp'], unit='s')\n",
    "#df"
   ]
  },
  {
   "cell_type": "code",
   "execution_count": null,
   "metadata": {},
   "outputs": [],
   "source": []
  }
 ],
 "metadata": {
  "kernelspec": {
   "display_name": "Python 3",
   "language": "python",
   "name": "python3"
  },
  "language_info": {
   "codemirror_mode": {
    "name": "ipython",
    "version": 3
   },
   "file_extension": ".py",
   "mimetype": "text/x-python",
   "name": "python",
   "nbconvert_exporter": "python",
   "pygments_lexer": "ipython3",
   "version": "3.11.4"
  },
  "orig_nbformat": 4
 },
 "nbformat": 4,
 "nbformat_minor": 2
}

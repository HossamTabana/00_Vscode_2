{
 "cells": [
  {
   "cell_type": "code",
   "execution_count": 1,
   "metadata": {},
   "outputs": [],
   "source": [
    "import json\n",
    "import pandas as pd"
   ]
  },
  {
   "cell_type": "code",
   "execution_count": 2,
   "metadata": {},
   "outputs": [],
   "source": [
    "# Load the JSON file\n",
    "with open(\"./00_Downloaded/20230816.json\", \"r\") as file:\n",
    "    data = json.load(file)"
   ]
  },
  {
   "cell_type": "code",
   "execution_count": 3,
   "metadata": {},
   "outputs": [],
   "source": [
    "# Extracting and flattening messages from all conversations in the list\n",
    "all_messages = []"
   ]
  },
  {
   "cell_type": "code",
   "execution_count": 4,
   "metadata": {},
   "outputs": [],
   "source": [
    "for conversation in data:\n",
    "    mapping = conversation.get('mapping', {})\n",
    "    for key, value in mapping.items():\n",
    "        message_data = value.get('message', {})\n",
    "        if message_data:\n",
    "            all_messages.append({\n",
    "                'id': message_data.get('id', None),\n",
    "                'author_role': message_data.get('author', {}).get('role', None),\n",
    "                'create_time': message_data.get('create_time', None),\n",
    "                'content': message_data.get('content', {}).get('parts', [None])[0],\n",
    "                'status': message_data.get('status', None),\n",
    "                'parent': value.get('parent', None)\n",
    "            })"
   ]
  },
  {
   "cell_type": "code",
   "execution_count": 5,
   "metadata": {},
   "outputs": [],
   "source": [
    "# Convert the list of dictionaries into a DataFrame\n",
    "df_messages = pd.DataFrame(all_messages)"
   ]
  },
  {
   "cell_type": "code",
   "execution_count": 6,
   "metadata": {},
   "outputs": [
    {
     "data": {
      "text/html": [
       "<div>\n",
       "<style scoped>\n",
       "    .dataframe tbody tr th:only-of-type {\n",
       "        vertical-align: middle;\n",
       "    }\n",
       "\n",
       "    .dataframe tbody tr th {\n",
       "        vertical-align: top;\n",
       "    }\n",
       "\n",
       "    .dataframe thead th {\n",
       "        text-align: right;\n",
       "    }\n",
       "</style>\n",
       "<table border=\"1\" class=\"dataframe\">\n",
       "  <thead>\n",
       "    <tr style=\"text-align: right;\">\n",
       "      <th></th>\n",
       "      <th>id</th>\n",
       "      <th>author_role</th>\n",
       "      <th>create_time</th>\n",
       "      <th>content</th>\n",
       "      <th>status</th>\n",
       "      <th>parent</th>\n",
       "    </tr>\n",
       "  </thead>\n",
       "  <tbody>\n",
       "    <tr>\n",
       "      <th>0</th>\n",
       "      <td>b0655646-af01-4f78-81d0-7f0b799be5ca</td>\n",
       "      <td>system</td>\n",
       "      <td>NaN</td>\n",
       "      <td></td>\n",
       "      <td>finished_successfully</td>\n",
       "      <td>1F583269-E02E-49B6-9BDB-AF72858F4330</td>\n",
       "    </tr>\n",
       "    <tr>\n",
       "      <th>1</th>\n",
       "      <td>f51bf072-2a25-4f6d-afa4-a779d49f6de0</td>\n",
       "      <td>user</td>\n",
       "      <td>1.692110e+09</td>\n",
       "      <td>I want to grant access to user in ms sql that ...</td>\n",
       "      <td>finished_successfully</td>\n",
       "      <td>b0655646-af01-4f78-81d0-7f0b799be5ca</td>\n",
       "    </tr>\n",
       "    <tr>\n",
       "      <th>2</th>\n",
       "      <td>8ac9ee2a-ddf7-44d2-8f64-71c3653c6f54</td>\n",
       "      <td>assistant</td>\n",
       "      <td>1.692110e+09</td>\n",
       "      <td>In Microsoft SQL Server, if you want a user to...</td>\n",
       "      <td>finished_successfully</td>\n",
       "      <td>f51bf072-2a25-4f6d-afa4-a779d49f6de0</td>\n",
       "    </tr>\n",
       "    <tr>\n",
       "      <th>3</th>\n",
       "      <td>1422d334-d1df-419b-a1be-2ed251f0485d</td>\n",
       "      <td>user</td>\n",
       "      <td>1.692110e+09</td>\n",
       "      <td>But i want to grant the access to that user to...</td>\n",
       "      <td>finished_successfully</td>\n",
       "      <td>8ac9ee2a-ddf7-44d2-8f64-71c3653c6f54</td>\n",
       "    </tr>\n",
       "    <tr>\n",
       "      <th>4</th>\n",
       "      <td>d9cbf9ec-d71a-4391-b8e9-5fe21a1d6e99</td>\n",
       "      <td>assistant</td>\n",
       "      <td>1.692110e+09</td>\n",
       "      <td>If you want to grant the `VIEW DEFINITION` per...</td>\n",
       "      <td>finished_successfully</td>\n",
       "      <td>1422d334-d1df-419b-a1be-2ed251f0485d</td>\n",
       "    </tr>\n",
       "  </tbody>\n",
       "</table>\n",
       "</div>"
      ],
      "text/plain": [
       "                                     id author_role   create_time  \\\n",
       "0  b0655646-af01-4f78-81d0-7f0b799be5ca      system           NaN   \n",
       "1  f51bf072-2a25-4f6d-afa4-a779d49f6de0        user  1.692110e+09   \n",
       "2  8ac9ee2a-ddf7-44d2-8f64-71c3653c6f54   assistant  1.692110e+09   \n",
       "3  1422d334-d1df-419b-a1be-2ed251f0485d        user  1.692110e+09   \n",
       "4  d9cbf9ec-d71a-4391-b8e9-5fe21a1d6e99   assistant  1.692110e+09   \n",
       "\n",
       "                                             content                 status  \\\n",
       "0                                                     finished_successfully   \n",
       "1  I want to grant access to user in ms sql that ...  finished_successfully   \n",
       "2  In Microsoft SQL Server, if you want a user to...  finished_successfully   \n",
       "3  But i want to grant the access to that user to...  finished_successfully   \n",
       "4  If you want to grant the `VIEW DEFINITION` per...  finished_successfully   \n",
       "\n",
       "                                 parent  \n",
       "0  1F583269-E02E-49B6-9BDB-AF72858F4330  \n",
       "1  b0655646-af01-4f78-81d0-7f0b799be5ca  \n",
       "2  f51bf072-2a25-4f6d-afa4-a779d49f6de0  \n",
       "3  8ac9ee2a-ddf7-44d2-8f64-71c3653c6f54  \n",
       "4  1422d334-d1df-419b-a1be-2ed251f0485d  "
      ]
     },
     "execution_count": 6,
     "metadata": {},
     "output_type": "execute_result"
    }
   ],
   "source": [
    "df_messages.head()"
   ]
  },
  {
   "cell_type": "code",
   "execution_count": 7,
   "metadata": {},
   "outputs": [],
   "source": [
    "df_messages# Save the DataFrame to a CSV file (optional)\n",
    "df_messages.to_csv(\"./01_To_CSV/20230816.csv\", index=False)"
   ]
  },
  {
   "cell_type": "code",
   "execution_count": null,
   "metadata": {},
   "outputs": [],
   "source": []
  }
 ],
 "metadata": {
  "kernelspec": {
   "display_name": "Python 3",
   "language": "python",
   "name": "python3"
  },
  "language_info": {
   "codemirror_mode": {
    "name": "ipython",
    "version": 3
   },
   "file_extension": ".py",
   "mimetype": "text/x-python",
   "name": "python",
   "nbconvert_exporter": "python",
   "pygments_lexer": "ipython3",
   "version": "3.11.4"
  },
  "orig_nbformat": 4
 },
 "nbformat": 4,
 "nbformat_minor": 2
}

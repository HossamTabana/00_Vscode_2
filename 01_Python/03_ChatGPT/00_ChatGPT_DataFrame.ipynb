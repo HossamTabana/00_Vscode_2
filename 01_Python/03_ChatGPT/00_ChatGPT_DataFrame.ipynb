{
 "cells": [
  {
   "cell_type": "code",
   "execution_count": 1,
   "metadata": {},
   "outputs": [],
   "source": [
    "import json\n",
    "import pandas as pd"
   ]
  },
  {
   "cell_type": "code",
   "execution_count": 2,
   "metadata": {},
   "outputs": [],
   "source": [
    "# Load the JSON file\n",
    "with open(\"./00_Downloaded/20230816.json\", \"r\") as file:\n",
    "    data = json.load(file)"
   ]
  },
  {
   "cell_type": "code",
   "execution_count": 3,
   "metadata": {},
   "outputs": [],
   "source": [
    "# Extracting and flattening messages from all conversations in the list\n",
    "all_messages = []"
   ]
  },
  {
   "cell_type": "code",
   "execution_count": 4,
   "metadata": {},
   "outputs": [],
   "source": [
    "for conversation in data:\n",
    "    mapping = conversation.get('mapping', {})\n",
    "    for key, value in mapping.items():\n",
    "        message_data = value.get('message', {})\n",
    "        if message_data:\n",
    "            all_messages.append({\n",
    "                'id': message_data.get('id', None),\n",
    "                'author_role': message_data.get('author', {}).get('role', None),\n",
    "                'create_time': message_data.get('create_time', None),\n",
    "                'content': message_data.get('content', {}).get('parts', [None])[0],\n",
    "                'status': message_data.get('status', None),\n",
    "                'parent': value.get('parent', None)\n",
    "            })"
   ]
  },
  {
   "cell_type": "code",
   "execution_count": 5,
   "metadata": {},
   "outputs": [],
   "source": [
    "# Convert the list of dictionaries into a DataFrame\n",
    "df_messages = pd.DataFrame(all_messages)"
   ]
  },
  {
   "cell_type": "code",
   "execution_count": 6,
   "metadata": {},
   "outputs": [
    {
     "data": {
      "text/html": [
       "<div>\n",
       "<style scoped>\n",
       "    .dataframe tbody tr th:only-of-type {\n",
       "        vertical-align: middle;\n",
       "    }\n",
       "\n",
       "    .dataframe tbody tr th {\n",
       "        vertical-align: top;\n",
       "    }\n",
       "\n",
       "    .dataframe thead th {\n",
       "        text-align: right;\n",
       "    }\n",
       "</style>\n",
       "<table border=\"1\" class=\"dataframe\">\n",
       "  <thead>\n",
       "    <tr style=\"text-align: right;\">\n",
       "      <th></th>\n",
       "      <th>id</th>\n",
       "      <th>author_role</th>\n",
       "      <th>create_time</th>\n",
       "      <th>content</th>\n",
       "      <th>status</th>\n",
       "      <th>parent</th>\n",
       "    </tr>\n",
       "  </thead>\n",
       "  <tbody>\n",
       "    <tr>\n",
       "      <th>0</th>\n",
       "      <td>b0655646-af01-4f78-81d0-7f0b799be5ca</td>\n",
       "      <td>system</td>\n",
       "      <td>NaN</td>\n",
       "      <td></td>\n",
       "      <td>finished_successfully</td>\n",
       "      <td>1F583269-E02E-49B6-9BDB-AF72858F4330</td>\n",
       "    </tr>\n",
       "    <tr>\n",
       "      <th>1</th>\n",
       "      <td>f51bf072-2a25-4f6d-afa4-a779d49f6de0</td>\n",
       "      <td>user</td>\n",
       "      <td>1.692110e+09</td>\n",
       "      <td>I want to grant access to user in ms sql that ...</td>\n",
       "      <td>finished_successfully</td>\n",
       "      <td>b0655646-af01-4f78-81d0-7f0b799be5ca</td>\n",
       "    </tr>\n",
       "    <tr>\n",
       "      <th>2</th>\n",
       "      <td>8ac9ee2a-ddf7-44d2-8f64-71c3653c6f54</td>\n",
       "      <td>assistant</td>\n",
       "      <td>1.692110e+09</td>\n",
       "      <td>In Microsoft SQL Server, if you want a user to...</td>\n",
       "      <td>finished_successfully</td>\n",
       "      <td>f51bf072-2a25-4f6d-afa4-a779d49f6de0</td>\n",
       "    </tr>\n",
       "    <tr>\n",
       "      <th>3</th>\n",
       "      <td>1422d334-d1df-419b-a1be-2ed251f0485d</td>\n",
       "      <td>user</td>\n",
       "      <td>1.692110e+09</td>\n",
       "      <td>But i want to grant the access to that user to...</td>\n",
       "      <td>finished_successfully</td>\n",
       "      <td>8ac9ee2a-ddf7-44d2-8f64-71c3653c6f54</td>\n",
       "    </tr>\n",
       "    <tr>\n",
       "      <th>4</th>\n",
       "      <td>d9cbf9ec-d71a-4391-b8e9-5fe21a1d6e99</td>\n",
       "      <td>assistant</td>\n",
       "      <td>1.692110e+09</td>\n",
       "      <td>If you want to grant the `VIEW DEFINITION` per...</td>\n",
       "      <td>finished_successfully</td>\n",
       "      <td>1422d334-d1df-419b-a1be-2ed251f0485d</td>\n",
       "    </tr>\n",
       "  </tbody>\n",
       "</table>\n",
       "</div>"
      ],
      "text/plain": [
       "                                     id author_role   create_time  \\\n",
       "0  b0655646-af01-4f78-81d0-7f0b799be5ca      system           NaN   \n",
       "1  f51bf072-2a25-4f6d-afa4-a779d49f6de0        user  1.692110e+09   \n",
       "2  8ac9ee2a-ddf7-44d2-8f64-71c3653c6f54   assistant  1.692110e+09   \n",
       "3  1422d334-d1df-419b-a1be-2ed251f0485d        user  1.692110e+09   \n",
       "4  d9cbf9ec-d71a-4391-b8e9-5fe21a1d6e99   assistant  1.692110e+09   \n",
       "\n",
       "                                             content                 status  \\\n",
       "0                                                     finished_successfully   \n",
       "1  I want to grant access to user in ms sql that ...  finished_successfully   \n",
       "2  In Microsoft SQL Server, if you want a user to...  finished_successfully   \n",
       "3  But i want to grant the access to that user to...  finished_successfully   \n",
       "4  If you want to grant the `VIEW DEFINITION` per...  finished_successfully   \n",
       "\n",
       "                                 parent  \n",
       "0  1F583269-E02E-49B6-9BDB-AF72858F4330  \n",
       "1  b0655646-af01-4f78-81d0-7f0b799be5ca  \n",
       "2  f51bf072-2a25-4f6d-afa4-a779d49f6de0  \n",
       "3  8ac9ee2a-ddf7-44d2-8f64-71c3653c6f54  \n",
       "4  1422d334-d1df-419b-a1be-2ed251f0485d  "
      ]
     },
     "execution_count": 6,
     "metadata": {},
     "output_type": "execute_result"
    }
   ],
   "source": [
    "df_messages.head()"
   ]
  },
  {
   "cell_type": "code",
   "execution_count": 7,
   "metadata": {},
   "outputs": [],
   "source": [
    "df_messages# Save the DataFrame to a CSV file (optional)\n",
    "df_messages.to_csv(\"./01_To_CSV/20230816.csv\", index=False)"
   ]
  },
  {
   "cell_type": "code",
   "execution_count": 8,
   "metadata": {},
   "outputs": [
    {
     "data": {
      "text/plain": [
       "'README.md file has been created successfully with chunked data.'"
      ]
     },
     "execution_count": 8,
     "metadata": {},
     "output_type": "execute_result"
    }
   ],
   "source": [
    "chunk_size = 500  # Number of rows per chunk\n",
    "num_chunks = len(df_messages) // chunk_size + 1\n",
    "\n",
    "with open(\"README.md\", \"w\") as file:\n",
    "    file.write(\"# Extracted Messages\\n\\n\")\n",
    "    \n",
    "    # Write each chunk to the file\n",
    "    for i in range(num_chunks):\n",
    "        chunk = df_messages.iloc[i * chunk_size : (i + 1) * chunk_size]\n",
    "        file.write(chunk.to_markdown())\n",
    "        file.write(\"\\n\\n\")\n",
    "\n",
    "\"README.md file has been created successfully with chunked data.\"\n"
   ]
  },
  {
   "cell_type": "code",
   "execution_count": 9,
   "metadata": {},
   "outputs": [
    {
     "data": {
      "text/plain": [
       "['README_1.md',\n",
       " 'README_2.md',\n",
       " 'README_3.md',\n",
       " 'README_4.md',\n",
       " 'README_5.md',\n",
       " 'README_6.md',\n",
       " 'README_7.md',\n",
       " 'README_8.md',\n",
       " 'README_9.md',\n",
       " 'README_10.md',\n",
       " 'README_11.md',\n",
       " 'README_12.md',\n",
       " 'README_13.md',\n",
       " 'README_14.md',\n",
       " 'README_15.md',\n",
       " 'README_16.md',\n",
       " 'README_17.md',\n",
       " 'README_18.md',\n",
       " 'README_19.md',\n",
       " 'README_20.md',\n",
       " 'README_21.md',\n",
       " 'README_22.md',\n",
       " 'README_23.md',\n",
       " 'README_24.md',\n",
       " 'README_25.md',\n",
       " 'README_26.md',\n",
       " 'README_27.md',\n",
       " 'README_28.md',\n",
       " 'README_29.md',\n",
       " 'README_30.md',\n",
       " 'README_31.md',\n",
       " 'README_32.md',\n",
       " 'README_33.md',\n",
       " 'README_34.md',\n",
       " 'README_35.md',\n",
       " 'README_36.md',\n",
       " 'README_37.md',\n",
       " 'README_38.md',\n",
       " 'README_39.md',\n",
       " 'README_40.md',\n",
       " 'README_41.md',\n",
       " 'README_42.md',\n",
       " 'README_43.md']"
      ]
     },
     "execution_count": 9,
     "metadata": {},
     "output_type": "execute_result"
    }
   ],
   "source": [
    "# Number of rows per file\n",
    "rows_per_file = 100\n",
    "\n",
    "# Calculate the number of files needed\n",
    "num_files = len(df_messages) // rows_per_file + 1\n",
    "\n",
    "file_names = []\n",
    "\n",
    "# Create multiple README files\n",
    "for i in range(num_files):\n",
    "    start_idx = i * rows_per_file\n",
    "    end_idx = (i + 1) * rows_per_file\n",
    "    chunk = df_messages.iloc[start_idx:end_idx]\n",
    "    file_name = f\"README_{i+1}.md\"\n",
    "    file_names.append(file_name)\n",
    "    with open(file_name, \"w\") as file:\n",
    "        file.write(f\"# Extracted Messages - Part {i+1}\\n\\n\")\n",
    "        file.write(chunk.to_markdown())\n",
    "        file.write(\"\\n\\n\")\n",
    "\n",
    "file_names\n"
   ]
  },
  {
   "cell_type": "code",
   "execution_count": 10,
   "metadata": {},
   "outputs": [
    {
     "data": {
      "text/plain": [
       "'All README files have been moved to ./02_ReadME_Files/'"
      ]
     },
     "execution_count": 10,
     "metadata": {},
     "output_type": "execute_result"
    }
   ],
   "source": [
    "import shutil\n",
    "import os\n",
    "\n",
    "# Ensure the target directory exists\n",
    "target_directory = \"./02_ReadME_Files/\"\n",
    "if not os.path.exists(target_directory):\n",
    "    os.makedirs(target_directory)\n",
    "\n",
    "# Move all README_X.md files to the specified location\n",
    "for file_name in file_names:\n",
    "    shutil.move(file_name, os.path.join(target_directory, file_name))\n",
    "\n",
    "f\"All README files have been moved to {target_directory}\"\n"
   ]
  },
  {
   "cell_type": "code",
   "execution_count": null,
   "metadata": {},
   "outputs": [],
   "source": []
  }
 ],
 "metadata": {
  "kernelspec": {
   "display_name": "Python 3",
   "language": "python",
   "name": "python3"
  },
  "language_info": {
   "codemirror_mode": {
    "name": "ipython",
    "version": 3
   },
   "file_extension": ".py",
   "mimetype": "text/x-python",
   "name": "python",
   "nbconvert_exporter": "python",
   "pygments_lexer": "ipython3",
   "version": "3.11.4"
  },
  "orig_nbformat": 4
 },
 "nbformat": 4,
 "nbformat_minor": 2
}

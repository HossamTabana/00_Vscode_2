{
 "cells": [
  {
   "cell_type": "code",
   "execution_count": 1,
   "metadata": {},
   "outputs": [],
   "source": [
    "import pandas as pd"
   ]
  },
  {
   "cell_type": "code",
   "execution_count": 2,
   "metadata": {},
   "outputs": [],
   "source": [
    "# Load Excel file\n",
    "df = pd.read_excel(\"newform.xlsx\")"
   ]
  },
  {
   "cell_type": "code",
   "execution_count": 3,
   "metadata": {},
   "outputs": [],
   "source": [
    "# Remove leading and trailing spaces from column names\n",
    "df.columns = df.columns.str.strip()"
   ]
  },
  {
   "cell_type": "code",
   "execution_count": 4,
   "metadata": {},
   "outputs": [
    {
     "name": "stdout",
     "output_type": "stream",
     "text": [
      "['ID', 'Start time', 'Completion time', 'Email', 'Name', 'Total points', 'Quiz feedback', 'Last modified time', 'What type of visualizations are you most interested in creating?', 'Points - What type of visualizations are you most interested in creating?', 'Feedback - What type of visualizations are you most interested in creating?', 'How often do you work with data from multiple sources?', 'Points - How often do you work with data from multiple sources?', 'Feedback - How often do you work with data from multiple sources?', 'Do you need to create custom calculations or metrics?', 'Points - Do you need to create custom calculations or metrics?', 'Feedback - Do you need to create custom calculations or metrics?', 'How comfortable are you with writing DAX formulas?', 'Points - How comfortable are you with writing DAX formulas?', 'Feedback - How comfortable are you with writing DAX formulas?', 'Do you use or plan to use Power Query for data transformation?', 'Points - Do you use or plan to use Power Query for data transformation?', 'Feedback - Do you use or plan to use Power Query for data transformation?', 'Are you interested in automating data refresh and report updates?', 'Points - Are you interested in automating data refresh and report updates?', 'Feedback - Are you interested in automating data refresh and report updates?', 'Do you need to drill through reports to get detailed data views?', 'Points - Do you need to drill through reports to get detailed data views?', 'Feedback - Do you need to drill through reports to get detailed data views?', 'How important is data modeling for your projects?', 'Points - How important is data modeling for your projects?', 'Feedback - How important is data modeling for your projects?', 'Will you be sharing your reports with external stakeholders?', 'Feedback - Will you be sharing your reports with external stakeholders?', 'Points - Will you be sharing your reports with external stakeholders?', 'Do you need to work on real-time data analytics?', 'Feedback - Do you need to work on real-time data analytics?', 'Points - Do you need to work on real-time data analytics?', 'Are you interested in mobile accessibility for your reports?', 'Feedback - Are you interested in mobile accessibility for your reports?', 'Points - Are you interested in mobile accessibility for your reports?', 'How do you plan to manage data security in Power BI?', 'Feedback - How do you plan to manage data security in Power BI?', 'Points - How do you plan to manage data security in Power BI?', 'Do you use or plan to use AI features in Power BI?', 'Feedback - Do you use or plan to use AI features in Power BI?', 'Points - Do you use or plan to use AI features in Power BI?', 'Do you need to perform trend analysis in your reports?', 'Feedback - Do you need to perform trend analysis in your reports?', 'Points - Do you need to perform trend analysis in your reports?', \"How comfortable are you with using the 'Bookmarks' feature?\", \"Feedback - How comfortable are you with using the 'Bookmarks' feature?\", \"Points - How comfortable are you with using the 'Bookmarks' feature?\", 'Do you plan to use custom themes for your reports?', 'Feedback - Do you plan to use custom themes for your reports?', 'Points - Do you plan to use custom themes for your reports?', 'How familiar are you with the Q&A feature in Power BI?', 'Points - How familiar are you with the Q&A feature in Power BI?', 'Feedback - How familiar are you with the Q&A feature in Power BI?', 'Are you interested in using the Power BI API for custom solutions?', 'Points - Are you interested in using the Power BI API for custom solutions?', 'Feedback - Are you interested in using the Power BI API for custom solutions?', 'Do you need to export data from Power BI to other formats?', 'Points - Do you need to export data from Power BI to other formats?', 'Feedback - Do you need to export data from Power BI to other formats?', 'How do you plan to collaborate with others on Power BI projects?', 'Points - How do you plan to collaborate with others on Power BI projects?', 'Feedback - How do you plan to collaborate with others on Power BI projects?']\n"
     ]
    }
   ],
   "source": [
    "# Print the column names to console\n",
    "print(df.columns.tolist())"
   ]
  },
  {
   "cell_type": "code",
   "execution_count": 5,
   "metadata": {},
   "outputs": [],
   "source": [
    "# Select columns with answers to questions. Make sure these match the Excel columns exactly.\n",
    "answer_columns = [\n",
    "    \"What type of visualizations are you most interested in creating?\",\n",
    "    \"How often do you work with data from multiple sources?\",\n",
    "    \"Do you need to create custom calculations or metrics?\",\n",
    "    \"How comfortable are you with writing DAX formulas?\",\n",
    "    \"Do you use or plan to use Power Query for data transformation?\",\n",
    "    \"Are you interested in automating data refresh and report updates?\",\n",
    "    \"Do you need to drill through reports to get detailed data views?\",\n",
    "    \"How important is data modeling for your projects?\",\n",
    "    \"Will you be sharing your reports with external stakeholders?\",\n",
    "    \"Do you need to work on real-time data analytics?\",\n",
    "    \"Are you interested in mobile accessibility for your reports?\",\n",
    "    \"How do you plan to manage data security in Power BI?\",\n",
    "    \"Do you use or plan to use AI features in Power BI?\",\n",
    "    \"Do you need to perform trend analysis in your reports?\",\n",
    "    \"How comfortable are you with using the 'Bookmarks' feature?\",\n",
    "    \"Do you plan to use custom themes for your reports?\",\n",
    "    \"How familiar are you with the Q&A feature in Power BI?\",\n",
    "    \"Are you interested in using the Power BI API for custom solutions?\",\n",
    "    \"Do you need to export data from Power BI to other formats?\",\n",
    "    \"How do you plan to collaborate with others on Power BI projects?\"\n",
    "]"
   ]
  },
  {
   "cell_type": "code",
   "execution_count": 6,
   "metadata": {},
   "outputs": [],
   "source": [
    "# Initialize an empty list to hold the categorizations\n",
    "categories = []"
   ]
  },
  {
   "cell_type": "code",
   "execution_count": 7,
   "metadata": {},
   "outputs": [],
   "source": [
    "# Loop through each row in the DataFrame to process answers\n",
    "for index, row in df.iterrows():\n",
    "    score = 0\n",
    "\n",
    "    # Iterate through selected columns and add up the scores based on answers\n",
    "    for question in answer_columns:\n",
    "        answer = row[question]\n",
    "        if answer in [\"Always\", \"Yes, complex metrics involving multiple tables\", \"Advanced level\", \"Critical\", \"All the time\", \"Yes, advanced AI features\", \"Advanced\", \"Yes\", \"Using both shared reports and workspaces\"]:\n",
    "            score += 3\n",
    "        elif answer in [\"Often\", \"Yes, including time-based metrics\", \"Intermediate level\", \"Very Important\", \"Frequently\", \"Yes, some basic AI features\", \"Intermediate\", \"Possibly\", \"Using Power BI workspaces\"]:\n",
    "            score += 2\n",
    "        else:\n",
    "            score += 1\n",
    "\n",
    "    # Categorize respondents based on their score\n",
    "    if score <= len(answer_columns) * 1:\n",
    "        categories.append('Basic Training')\n",
    "    elif score <= len(answer_columns) * 2:\n",
    "        categories.append('Medium Training')\n",
    "    else:\n",
    "        categories.append('Advanced Training')"
   ]
  },
  {
   "cell_type": "code",
   "execution_count": 8,
   "metadata": {},
   "outputs": [],
   "source": [
    "# Add the categories as a new column to the original DataFrame\n",
    "df['Training Level'] = categories"
   ]
  },
  {
   "cell_type": "code",
   "execution_count": 9,
   "metadata": {},
   "outputs": [],
   "source": [
    "# Save the updated DataFrame back to Excel\n",
    "df.to_excel(\"categorized_training_needsv2.xlsx\", index=False)"
   ]
  },
  {
   "cell_type": "code",
   "execution_count": 11,
   "metadata": {},
   "outputs": [
    {
     "data": {
      "text/html": [
       "<div>\n",
       "<style scoped>\n",
       "    .dataframe tbody tr th:only-of-type {\n",
       "        vertical-align: middle;\n",
       "    }\n",
       "\n",
       "    .dataframe tbody tr th {\n",
       "        vertical-align: top;\n",
       "    }\n",
       "\n",
       "    .dataframe thead th {\n",
       "        text-align: right;\n",
       "    }\n",
       "</style>\n",
       "<table border=\"1\" class=\"dataframe\">\n",
       "  <thead>\n",
       "    <tr style=\"text-align: right;\">\n",
       "      <th></th>\n",
       "      <th>What type of visualizations are you most interested in creating?</th>\n",
       "      <th>How often do you work with data from multiple sources?</th>\n",
       "      <th>Do you need to create custom calculations or metrics?</th>\n",
       "      <th>How comfortable are you with writing DAX formulas?</th>\n",
       "      <th>Do you use or plan to use Power Query for data transformation?</th>\n",
       "      <th>Are you interested in automating data refresh and report updates?</th>\n",
       "      <th>Do you need to drill through reports to get detailed data views?</th>\n",
       "      <th>How important is data modeling for your projects?</th>\n",
       "      <th>Will you be sharing your reports with external stakeholders?</th>\n",
       "      <th>Do you need to work on real-time data analytics?</th>\n",
       "      <th>Are you interested in mobile accessibility for your reports?</th>\n",
       "      <th>How do you plan to manage data security in Power BI?</th>\n",
       "      <th>Do you use or plan to use AI features in Power BI?</th>\n",
       "      <th>Do you need to perform trend analysis in your reports?</th>\n",
       "      <th>How comfortable are you with using the 'Bookmarks' feature?</th>\n",
       "      <th>Do you plan to use custom themes for your reports?</th>\n",
       "      <th>How familiar are you with the Q&amp;A feature in Power BI?</th>\n",
       "      <th>Are you interested in using the Power BI API for custom solutions?</th>\n",
       "      <th>Do you need to export data from Power BI to other formats?</th>\n",
       "      <th>How do you plan to collaborate with others on Power BI projects?</th>\n",
       "    </tr>\n",
       "  </thead>\n",
       "  <tbody>\n",
       "    <tr>\n",
       "      <th>0</th>\n",
       "      <td>Complex Custom Visuals</td>\n",
       "      <td>Often</td>\n",
       "      <td>Yes, complex metrics involving multiple tables</td>\n",
       "      <td>Advanced level</td>\n",
       "      <td>Advanced transformations involving M scripts</td>\n",
       "      <td>Yes, including complex scheduling</td>\n",
       "      <td>Often</td>\n",
       "      <td>Very Important</td>\n",
       "      <td>Yes, as interactive reports</td>\n",
       "      <td>Frequently</td>\n",
       "      <td>Yes, it's essential</td>\n",
       "      <td>Both role-based and row-level security</td>\n",
       "      <td>Yes, advanced AI features</td>\n",
       "      <td>Yes, more advanced analytics</td>\n",
       "      <td>Advanced</td>\n",
       "      <td>Definitely</td>\n",
       "      <td>Use it frequently</td>\n",
       "      <td>Yes</td>\n",
       "      <td>Yes, to multiple formats</td>\n",
       "      <td>Using both shared reports and workspaces</td>\n",
       "    </tr>\n",
       "  </tbody>\n",
       "</table>\n",
       "</div>"
      ],
      "text/plain": [
       "  What type of visualizations are you most interested in creating?  \\\n",
       "0                             Complex Custom Visuals                 \n",
       "\n",
       "  How often do you work with data from multiple sources?  \\\n",
       "0                                              Often       \n",
       "\n",
       "  Do you need to create custom calculations or metrics?  \\\n",
       "0     Yes, complex metrics involving multiple tables      \n",
       "\n",
       "  How comfortable are you with writing DAX formulas?  \\\n",
       "0                                     Advanced level   \n",
       "\n",
       "  Do you use or plan to use Power Query for data transformation?  \\\n",
       "0       Advanced transformations involving M scripts               \n",
       "\n",
       "  Are you interested in automating data refresh and report updates?  \\\n",
       "0                  Yes, including complex scheduling                  \n",
       "\n",
       "  Do you need to drill through reports to get detailed data views?  \\\n",
       "0                                              Often                 \n",
       "\n",
       "  How important is data modeling for your projects?  \\\n",
       "0                                    Very Important   \n",
       "\n",
       "  Will you be sharing your reports with external stakeholders?  \\\n",
       "0                        Yes, as interactive reports             \n",
       "\n",
       "  Do you need to work on real-time data analytics?  \\\n",
       "0                                       Frequently   \n",
       "\n",
       "  Are you interested in mobile accessibility for your reports?  \\\n",
       "0                                Yes, it's essential             \n",
       "\n",
       "  How do you plan to manage data security in Power BI?  \\\n",
       "0             Both role-based and row-level security     \n",
       "\n",
       "  Do you use or plan to use AI features in Power BI?  \\\n",
       "0                          Yes, advanced AI features   \n",
       "\n",
       "  Do you need to perform trend analysis in your reports?  \\\n",
       "0                       Yes, more advanced analytics       \n",
       "\n",
       "  How comfortable are you with using the 'Bookmarks' feature?  \\\n",
       "0                                           Advanced            \n",
       "\n",
       "  Do you plan to use custom themes for your reports?  \\\n",
       "0                                         Definitely   \n",
       "\n",
       "  How familiar are you with the Q&A feature in Power BI?  \\\n",
       "0                                  Use it frequently       \n",
       "\n",
       "  Are you interested in using the Power BI API for custom solutions?  \\\n",
       "0                                                Yes                   \n",
       "\n",
       "  Do you need to export data from Power BI to other formats?  \\\n",
       "0                           Yes, to multiple formats           \n",
       "\n",
       "  How do you plan to collaborate with others on Power BI projects?  \n",
       "0           Using both shared reports and workspaces                "
      ]
     },
     "execution_count": 11,
     "metadata": {},
     "output_type": "execute_result"
    }
   ],
   "source": [
    "## Old concept\n",
    "# Filter the DataFrame to only include these columns\n",
    "df_filtered = df[answer_columns]\n",
    "df_filtered.head()"
   ]
  },
  {
   "cell_type": "code",
   "execution_count": 12,
   "metadata": {},
   "outputs": [],
   "source": [
    "# Ensure these columns are also stripped of spaces\n",
    "answer_columns = [col.strip() for col in answer_columns]"
   ]
  },
  {
   "cell_type": "code",
   "execution_count": 13,
   "metadata": {},
   "outputs": [],
   "source": [
    "# Initialize an empty list to hold the categorizations\n",
    "categories = []"
   ]
  },
  {
   "cell_type": "code",
   "execution_count": 14,
   "metadata": {},
   "outputs": [],
   "source": [
    "# Loop through each row in the filtered DataFrame\n",
    "for index, row in df_filtered.iterrows():\n",
    "    score = 0\n",
    "    \n",
    "    # Sum up the scores based on the answers\n",
    "    # (assuming you've encoded answers as 1 for Basic, 2 for Medium, and 3 for Advanced)\n",
    "    for question in answer_columns:\n",
    "        if row[question] in [\"Always\", \"Yes, complex metrics involving multiple tables\", \"Advanced level\", \"Critical\", \"All the time\", \"Yes, advanced AI features\", \"Advanced\", \"Yes\", \"Using both shared reports and workspaces\"]:\n",
    "            score += 3\n",
    "        elif row[question] in [\"Often\", \"Yes, including time-based metrics\", \"Intermediate level\", \"Very Important\", \"Frequently\", \"Yes, some basic AI features\", \"Intermediate\", \"Possibly\", \"Using Power BI workspaces\"]:\n",
    "            score += 2\n",
    "        else:\n",
    "            score += 1\n",
    "    \n",
    "    # Categorize respondents\n",
    "    if score <= 10:\n",
    "        categories.append('Basic Training')\n",
    "    elif score <= 20:\n",
    "        categories.append('Medium Training')\n",
    "    else:\n",
    "        categories.append('Advanced Training')"
   ]
  },
  {
   "cell_type": "code",
   "execution_count": 15,
   "metadata": {},
   "outputs": [],
   "source": [
    "# Add the categories as a new column to the original DataFrame\n",
    "df['Training Level'] = categories"
   ]
  },
  {
   "cell_type": "code",
   "execution_count": 16,
   "metadata": {},
   "outputs": [],
   "source": [
    "# Save the updated DataFrame back to Excel\n",
    "df.to_excel(\"categorized_training_needsv3.xlsx\", index=False)"
   ]
  },
  {
   "cell_type": "code",
   "execution_count": 17,
   "metadata": {},
   "outputs": [],
   "source": [
    "## another option :\n",
    "# Initialize an empty list to hold the categorizations\n",
    "categories = []"
   ]
  },
  {
   "cell_type": "code",
   "execution_count": 18,
   "metadata": {},
   "outputs": [],
   "source": [
    "# Loop through each row in the DataFrame to process answers\n",
    "for index, row in df.iterrows():\n",
    "    score = 0\n",
    "\n",
    "    # Iterate through selected columns and add up the scores based on answers\n",
    "    for question in answer_columns:\n",
    "        answer = row[question]\n",
    "        if answer in [\"Always\", \"Yes, complex metrics involving multiple tables\", \"Advanced level\", \"Critical\", \"All the time\", \"Yes, advanced AI features\", \"Advanced\", \"Yes\", \"Using both shared reports and workspaces\"]:\n",
    "            score += 3\n",
    "        elif answer in [\"Often\", \"Yes, including time-based metrics\", \"Intermediate level\", \"Very Important\", \"Frequently\", \"Yes, some basic AI features\", \"Intermediate\", \"Possibly\", \"Using Power BI workspaces\"]:\n",
    "            score += 2\n",
    "        else:\n",
    "            score += 1\n",
    "\n",
    "    # Calculate maximum and minimum possible scores\n",
    "    min_score = len(answer_columns)\n",
    "    max_score = len(answer_columns) * 3\n",
    "\n",
    "    # Define thresholds for Basic, Medium, and Advanced\n",
    "    basic_threshold = min_score + (max_score - min_score) * 1 / 3\n",
    "    medium_threshold = min_score + (max_score - min_score) * 2 / 3\n",
    "\n",
    "    # Categorize respondents based on their score\n",
    "    if score <= basic_threshold:\n",
    "        categories.append('Basic Training')\n",
    "    elif score <= medium_threshold:\n",
    "        categories.append('Medium Training')\n",
    "    else:\n",
    "        categories.append('Advanced Training')\n"
   ]
  },
  {
   "cell_type": "code",
   "execution_count": 19,
   "metadata": {},
   "outputs": [],
   "source": [
    "# Add the categories as a new column to the original DataFrame\n",
    "df['Training Level'] = categories"
   ]
  },
  {
   "cell_type": "code",
   "execution_count": 20,
   "metadata": {},
   "outputs": [],
   "source": [
    "# Save the updated DataFrame back to Excel\n",
    "df.to_excel(\"categorized_training_needsv4.xlsx\", index=False)"
   ]
  },
  {
   "cell_type": "code",
   "execution_count": 21,
   "metadata": {},
   "outputs": [],
   "source": [
    "## Option 5:\n",
    "# Initialize an empty list to store the categories\n",
    "categories = []\n",
    "\n",
    "# Loop through each row in the DataFrame\n",
    "for index, row in df.iterrows():\n",
    "    score = 0\n",
    "\n",
    "    # Iterate through each question to calculate the score\n",
    "    for question in answer_columns:\n",
    "        answer = row[question]\n",
    "        if answer in [\"Always\", \"Yes, complex metrics involving multiple tables\", \"Advanced level\", \"Critical\", \"All the time\", \"Yes, advanced AI features\", \"Advanced\", \"Yes\", \"Using both shared reports and workspaces\"]:\n",
    "            score += 3\n",
    "        elif answer in [\"Often\", \"Yes, including time-based metrics\", \"Intermediate level\", \"Very Important\", \"Frequently\", \"Yes, some basic AI features\", \"Intermediate\", \"Possibly\", \"Using Power BI workspaces\"]:\n",
    "            score += 2\n",
    "        else:\n",
    "            score += 1\n",
    "\n",
    "    # Categorize the respondents based on their scores\n",
    "    if score <= 20:\n",
    "        categories.append('Basic Training')\n",
    "    elif score <= 26:\n",
    "        categories.append('Medium Training')\n",
    "    else:\n",
    "        categories.append('Advanced Training')\n",
    "\n",
    "# Add the category as a new column to the DataFrame\n",
    "df['Training Level'] = categories\n",
    "\n",
    "# Save the DataFrame back to Excel\n",
    "df.to_excel(\"categorized_training_needsv5.xlsx\", index=False)"
   ]
  },
  {
   "cell_type": "code",
   "execution_count": null,
   "metadata": {},
   "outputs": [],
   "source": []
  }
 ],
 "metadata": {
  "kernelspec": {
   "display_name": "Python 3",
   "language": "python",
   "name": "python3"
  },
  "language_info": {
   "codemirror_mode": {
    "name": "ipython",
    "version": 3
   },
   "file_extension": ".py",
   "mimetype": "text/x-python",
   "name": "python",
   "nbconvert_exporter": "python",
   "pygments_lexer": "ipython3",
   "version": "3.11.4"
  },
  "orig_nbformat": 4
 },
 "nbformat": 4,
 "nbformat_minor": 2
}

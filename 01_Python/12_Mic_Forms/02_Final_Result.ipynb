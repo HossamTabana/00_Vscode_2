{
 "cells": [
  {
   "cell_type": "code",
   "execution_count": 9,
   "metadata": {},
   "outputs": [],
   "source": [
    "import pandas as pd"
   ]
  },
  {
   "cell_type": "code",
   "execution_count": 10,
   "metadata": {},
   "outputs": [],
   "source": [
    "# Load Excel file\n",
    "df = pd.read_excel(\"newform.xlsx\")"
   ]
  },
  {
   "cell_type": "code",
   "execution_count": 11,
   "metadata": {},
   "outputs": [],
   "source": [
    "# Remove leading and trailing spaces from column names\n",
    "df.columns = df.columns.str.strip()"
   ]
  },
  {
   "cell_type": "code",
   "execution_count": 12,
   "metadata": {},
   "outputs": [],
   "source": [
    "# Select columns with answers to questions. Make sure these match the Excel columns exactly.\n",
    "answer_columns = [\n",
    "    \"What type of visualizations are you most interested in creating?\",\n",
    "    \"How often do you work with data from multiple sources?\",\n",
    "    \"Do you need to create custom calculations or metrics?\",\n",
    "    \"How comfortable are you with writing DAX formulas?\",\n",
    "    \"Do you use or plan to use Power Query for data transformation?\",\n",
    "    \"Are you interested in automating data refresh and report updates?\",\n",
    "    \"Do you need to drill through reports to get detailed data views?\",\n",
    "    \"How important is data modeling for your projects?\",\n",
    "    \"Will you be sharing your reports with external stakeholders?\",\n",
    "    \"Do you need to work on real-time data analytics?\",\n",
    "    \"Are you interested in mobile accessibility for your reports?\",\n",
    "    \"How do you plan to manage data security in Power BI?\",\n",
    "    \"Do you use or plan to use AI features in Power BI?\",\n",
    "    \"Do you need to perform trend analysis in your reports?\",\n",
    "    \"How comfortable are you with using the 'Bookmarks' feature?\",\n",
    "    \"Do you plan to use custom themes for your reports?\",\n",
    "    \"How familiar are you with the Q&A feature in Power BI?\",\n",
    "    \"Are you interested in using the Power BI API for custom solutions?\",\n",
    "    \"Do you need to export data from Power BI to other formats?\",\n",
    "    \"How do you plan to collaborate with others on Power BI projects?\"\n",
    "]"
   ]
  },
  {
   "cell_type": "code",
   "execution_count": 13,
   "metadata": {},
   "outputs": [],
   "source": [
    "# Initialize two empty lists to store the categories and recommended courses\n",
    "categories = []\n",
    "recommended_courses = []\n",
    "Paid_Courses = []"
   ]
  },
  {
   "cell_type": "code",
   "execution_count": 14,
   "metadata": {},
   "outputs": [],
   "source": [
    "# Loop through each row in the DataFrame\n",
    "for index, row in df.iterrows():\n",
    "    score = 0\n",
    "\n",
    "    # Iterate through each question to calculate the score\n",
    "    for question in answer_columns:\n",
    "        answer = row[question]\n",
    "        if answer in [\"Always\", \"Yes, complex metrics involving multiple tables\", \"Advanced level\", \"Critical\", \"All the time\", \"Yes, advanced AI features\", \"Advanced\", \"Yes\", \"Using both shared reports and workspaces\"]:\n",
    "            score += 3\n",
    "        elif answer in [\"Often\", \"Yes, including time-based metrics\", \"Intermediate level\", \"Very Important\", \"Frequently\", \"Yes, some basic AI features\", \"Intermediate\", \"Possibly\", \"Using Power BI workspaces\"]:\n",
    "            score += 2\n",
    "        else:\n",
    "            score += 1\n",
    "\n",
    "    # Categorize the respondents based on their scores and recommend courses\n",
    "    if score <= 20:\n",
    "        categories.append(\"Beginner's Training\")\n",
    "        recommended_courses.append('LinkedIn Learning: \"Power BI Essential Training\"')\n",
    "        Paid_Courses.append('Udemy: \"Microsoft Power BI: A Complete Introduction\"')\n",
    "    elif score <= 26:\n",
    "        categories.append('Intermediate Training')\n",
    "        recommended_courses.append('LinkedIn Learning: \"Advanced Power BI\"')\n",
    "        Paid_Courses.append('Udemy: \"Microsoft Power BI - Data Modeling and DAX Formulas\"')\n",
    "    else:\n",
    "        categories.append('Advanced Training')\n",
    "        recommended_courses.append('LinkedIn Learning: \"Power BI Data Methods\"')\n",
    "        Paid_Courses.append('Udemy: \"Advanced Microsoft Power BI\"')"
   ]
  },
  {
   "cell_type": "code",
   "execution_count": 15,
   "metadata": {},
   "outputs": [],
   "source": [
    "# Add the categories and recommended courses as new columns to the DataFrame\n",
    "df['Training Level'] = categories\n",
    "df['Recommended Course'] = recommended_courses\n",
    "df['Paid Course'] = Paid_Courses"
   ]
  },
  {
   "cell_type": "code",
   "execution_count": 16,
   "metadata": {},
   "outputs": [],
   "source": [
    "# Save the DataFrame back to Excel\n",
    "df.to_excel(\"categorized_training_needs_with_courses.xlsx\", index=False)"
   ]
  },
  {
   "cell_type": "code",
   "execution_count": null,
   "metadata": {},
   "outputs": [],
   "source": []
  }
 ],
 "metadata": {
  "kernelspec": {
   "display_name": "Python 3",
   "language": "python",
   "name": "python3"
  },
  "language_info": {
   "codemirror_mode": {
    "name": "ipython",
    "version": 3
   },
   "file_extension": ".py",
   "mimetype": "text/x-python",
   "name": "python",
   "nbconvert_exporter": "python",
   "pygments_lexer": "ipython3",
   "version": "3.11.4"
  },
  "orig_nbformat": 4
 },
 "nbformat": 4,
 "nbformat_minor": 2
}

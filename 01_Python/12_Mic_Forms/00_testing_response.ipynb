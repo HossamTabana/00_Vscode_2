{
 "cells": [
  {
   "cell_type": "code",
   "execution_count": 14,
   "metadata": {},
   "outputs": [],
   "source": [
    "import pandas as pd"
   ]
  },
  {
   "cell_type": "code",
   "execution_count": 15,
   "metadata": {},
   "outputs": [],
   "source": [
    "# Load Excel file\n",
    "df = pd.read_excel(\"form.xlsx\")"
   ]
  },
  {
   "cell_type": "code",
   "execution_count": 16,
   "metadata": {},
   "outputs": [
    {
     "data": {
      "text/html": [
       "<div>\n",
       "<style scoped>\n",
       "    .dataframe tbody tr th:only-of-type {\n",
       "        vertical-align: middle;\n",
       "    }\n",
       "\n",
       "    .dataframe tbody tr th {\n",
       "        vertical-align: top;\n",
       "    }\n",
       "\n",
       "    .dataframe thead th {\n",
       "        text-align: right;\n",
       "    }\n",
       "</style>\n",
       "<table border=\"1\" class=\"dataframe\">\n",
       "  <thead>\n",
       "    <tr style=\"text-align: right;\">\n",
       "      <th></th>\n",
       "      <th>ID</th>\n",
       "      <th>Start time</th>\n",
       "      <th>Completion time</th>\n",
       "      <th>Email</th>\n",
       "      <th>Name</th>\n",
       "      <th>Total points</th>\n",
       "      <th>Quiz feedback</th>\n",
       "      <th>Last modified time</th>\n",
       "      <th>What is Power BI primarily used for ?\\n</th>\n",
       "      <th>Points -   What is Power BI primarily used for ?\\n</th>\n",
       "      <th>...</th>\n",
       "      <th>Feedback - What is 'Data Modeling' in Power BI ?</th>\n",
       "      <th>What does DAX help you achieve in Power BI ?</th>\n",
       "      <th>Points - What does DAX help you achieve in Power BI ?</th>\n",
       "      <th>Feedback - What does DAX help you achieve in Power BI ?</th>\n",
       "      <th>What is the best method to share a Power BI report publicly ?</th>\n",
       "      <th>Points - What is the best method to share a Power BI report publicly ?</th>\n",
       "      <th>Feedback - What is the best method to share a Power BI report publicly ?</th>\n",
       "      <th>How do you import data into Power BI ?</th>\n",
       "      <th>Feedback - How do you import data into Power BI ?</th>\n",
       "      <th>Points - How do you import data into Power BI ?</th>\n",
       "    </tr>\n",
       "  </thead>\n",
       "  <tbody>\n",
       "    <tr>\n",
       "      <th>0</th>\n",
       "      <td>1</td>\n",
       "      <td>2023-09-22 18:45:28</td>\n",
       "      <td>2023-09-22 18:46:49</td>\n",
       "      <td>Hossam.Ibrahim@hlag.com</td>\n",
       "      <td>Hossam Ibrahim</td>\n",
       "      <td>NaN</td>\n",
       "      <td>NaN</td>\n",
       "      <td>NaN</td>\n",
       "      <td>Data Visualization</td>\n",
       "      <td>NaN</td>\n",
       "      <td>...</td>\n",
       "      <td>NaN</td>\n",
       "      <td>Advanced Calculations</td>\n",
       "      <td>NaN</td>\n",
       "      <td>NaN</td>\n",
       "      <td>Publish to Web</td>\n",
       "      <td>NaN</td>\n",
       "      <td>NaN</td>\n",
       "      <td>All of the above</td>\n",
       "      <td>NaN</td>\n",
       "      <td>NaN</td>\n",
       "    </tr>\n",
       "  </tbody>\n",
       "</table>\n",
       "<p>1 rows × 38 columns</p>\n",
       "</div>"
      ],
      "text/plain": [
       "   ID          Start time     Completion time                    Email  \\\n",
       "0   1 2023-09-22 18:45:28 2023-09-22 18:46:49  Hossam.Ibrahim@hlag.com   \n",
       "\n",
       "             Name  Total points  Quiz feedback  Last modified time  \\\n",
       "0  Hossam Ibrahim           NaN            NaN                 NaN   \n",
       "\n",
       "    What is Power BI primarily used for ?\\n    \\\n",
       "0                          Data Visualization   \n",
       "\n",
       "   Points -   What is Power BI primarily used for ?\\n    ...  \\\n",
       "0                                                NaN     ...   \n",
       "\n",
       "   Feedback - What is 'Data Modeling' in Power BI ?  \\\n",
       "0                                               NaN   \n",
       "\n",
       "  What does DAX help you achieve in Power BI ?  \\\n",
       "0                        Advanced Calculations   \n",
       "\n",
       "   Points - What does DAX help you achieve in Power BI ?  \\\n",
       "0                                                NaN       \n",
       "\n",
       "   Feedback - What does DAX help you achieve in Power BI ?  \\\n",
       "0                                                NaN         \n",
       "\n",
       "  What is the best method to share a Power BI report publicly ?  \\\n",
       "0                                     Publish to Web              \n",
       "\n",
       "   Points - What is the best method to share a Power BI report publicly ?  \\\n",
       "0                                                NaN                        \n",
       "\n",
       "   Feedback - What is the best method to share a Power BI report publicly ?  \\\n",
       "0                                                NaN                          \n",
       "\n",
       "  How do you import data into Power BI ?  \\\n",
       "0                       All of the above   \n",
       "\n",
       "   Feedback - How do you import data into Power BI ?  \\\n",
       "0                                                NaN   \n",
       "\n",
       "   Points - How do you import data into Power BI ?  \n",
       "0                                              NaN  \n",
       "\n",
       "[1 rows x 38 columns]"
      ]
     },
     "execution_count": 16,
     "metadata": {},
     "output_type": "execute_result"
    }
   ],
   "source": [
    "df.head()"
   ]
  },
  {
   "cell_type": "code",
   "execution_count": 17,
   "metadata": {},
   "outputs": [
    {
     "name": "stdout",
     "output_type": "stream",
     "text": [
      "Index(['ID', 'Start time', 'Completion time', 'Email', 'Name', 'Total points',\n",
      "       'Quiz feedback', 'Last modified time',\n",
      "       '  What is Power BI primarily used for ?\\n  ',\n",
      "       'Points -   What is Power BI primarily used for ?\\n  ',\n",
      "       'Feedback -   What is Power BI primarily used for ?\\n  ',\n",
      "       'In Power BI, Which visualization would you use to display hierarchical relationships ?',\n",
      "       'Points - In Power BI, Which visualization would you use to display hierarchical relationships ?',\n",
      "       'Feedback - In Power BI, Which visualization would you use to display hierarchical relationships ?',\n",
      "       'If you've used QlikSense, Which feature is similar to Power BI's Slicers ?',\n",
      "       'Points - If you've used QlikSense, Which feature is similar to Power BI's Slicers ?',\n",
      "       'Feedback - If you've used QlikSense, Which feature is similar to Power BI's Slicers ?',\n",
      "       'How do you add interactivity to a Power BI report ?',\n",
      "       'Points - How do you add interactivity to a Power BI report ?',\n",
      "       'Feedback - How do you add interactivity to a Power BI report ?',\n",
      "       'What is the 'Drillthrough' feature used for in Power BI ?',\n",
      "       'Points - What is the 'Drillthrough' feature used for in Power BI ?',\n",
      "       'Feedback - What is the 'Drillthrough' feature used for in Power BI ?',\n",
      "       'In QlikSense, What's the closest feature to Power BI's Bookmarks ?',\n",
      "       'Points - In QlikSense, What's the closest feature to Power BI's Bookmarks ?',\n",
      "       'Feedback - In QlikSense, What's the closest feature to Power BI's Bookmarks ?',\n",
      "       'What is 'Data Modeling' in Power BI ?',\n",
      "       'Points - What is 'Data Modeling' in Power BI ?',\n",
      "       'Feedback - What is 'Data Modeling' in Power BI ?',\n",
      "       'What does DAX help you achieve in Power BI ?',\n",
      "       'Points - What does DAX help you achieve in Power BI ?',\n",
      "       'Feedback - What does DAX help you achieve in Power BI ?',\n",
      "       'What is the best method to share a Power BI report publicly ?',\n",
      "       'Points - What is the best method to share a Power BI report publicly ?',\n",
      "       'Feedback - What is the best method to share a Power BI report publicly ?',\n",
      "       'How do you import data into Power BI ?',\n",
      "       'Feedback - How do you import data into Power BI ?',\n",
      "       'Points - How do you import data into Power BI ?'],\n",
      "      dtype='object')\n"
     ]
    }
   ],
   "source": [
    "print(df.columns)"
   ]
  },
  {
   "cell_type": "code",
   "execution_count": 18,
   "metadata": {},
   "outputs": [
    {
     "name": "stdout",
     "output_type": "stream",
     "text": [
      "Index(['ID', 'Start time', 'Completion time', 'Email', 'Name', 'Total points',\n",
      "       'Quiz feedback', 'Last modified time',\n",
      "       'What is Power BI primarily used for ?',\n",
      "       'Points -   What is Power BI primarily used for ?',\n",
      "       'Feedback -   What is Power BI primarily used for ?',\n",
      "       'In Power BI, Which visualization would you use to display hierarchical relationships ?',\n",
      "       'Points - In Power BI, Which visualization would you use to display hierarchical relationships ?',\n",
      "       'Feedback - In Power BI, Which visualization would you use to display hierarchical relationships ?',\n",
      "       'If you've used QlikSense, Which feature is similar to Power BI's Slicers ?',\n",
      "       'Points - If you've used QlikSense, Which feature is similar to Power BI's Slicers ?',\n",
      "       'Feedback - If you've used QlikSense, Which feature is similar to Power BI's Slicers ?',\n",
      "       'How do you add interactivity to a Power BI report ?',\n",
      "       'Points - How do you add interactivity to a Power BI report ?',\n",
      "       'Feedback - How do you add interactivity to a Power BI report ?',\n",
      "       'What is the 'Drillthrough' feature used for in Power BI ?',\n",
      "       'Points - What is the 'Drillthrough' feature used for in Power BI ?',\n",
      "       'Feedback - What is the 'Drillthrough' feature used for in Power BI ?',\n",
      "       'In QlikSense, What's the closest feature to Power BI's Bookmarks ?',\n",
      "       'Points - In QlikSense, What's the closest feature to Power BI's Bookmarks ?',\n",
      "       'Feedback - In QlikSense, What's the closest feature to Power BI's Bookmarks ?',\n",
      "       'What is 'Data Modeling' in Power BI ?',\n",
      "       'Points - What is 'Data Modeling' in Power BI ?',\n",
      "       'Feedback - What is 'Data Modeling' in Power BI ?',\n",
      "       'What does DAX help you achieve in Power BI ?',\n",
      "       'Points - What does DAX help you achieve in Power BI ?',\n",
      "       'Feedback - What does DAX help you achieve in Power BI ?',\n",
      "       'What is the best method to share a Power BI report publicly ?',\n",
      "       'Points - What is the best method to share a Power BI report publicly ?',\n",
      "       'Feedback - What is the best method to share a Power BI report publicly ?',\n",
      "       'How do you import data into Power BI ?',\n",
      "       'Feedback - How do you import data into Power BI ?',\n",
      "       'Points - How do you import data into Power BI ?'],\n",
      "      dtype='object')\n"
     ]
    }
   ],
   "source": [
    "# Remove leading and trailing spaces from column names\n",
    "df.columns = df.columns.str.strip()\n",
    "print(df.columns)"
   ]
  },
  {
   "cell_type": "code",
   "execution_count": 23,
   "metadata": {},
   "outputs": [
    {
     "name": "stdout",
     "output_type": "stream",
     "text": [
      "['ID', 'Start time', 'Completion time', 'Email', 'Name', 'Total points', 'Quiz feedback', 'Last modified time', 'What is Power BI primarily used for ?', 'Points -   What is Power BI primarily used for ?', 'Feedback -   What is Power BI primarily used for ?', 'In Power BI, Which visualization\\xa0would you use to display hierarchical relationships ?', 'Points - In Power BI, Which visualization\\xa0would you use to display hierarchical relationships ?', 'Feedback - In Power BI, Which visualization\\xa0would you use to display hierarchical relationships ?', \"If you've used QlikSense, Which feature is similar to Power BI's Slicers ?\", \"Points - If you've used QlikSense, Which feature is similar to Power BI's Slicers ?\", \"Feedback - If you've used QlikSense, Which feature is similar to Power BI's Slicers ?\", 'How do you add interactivity to a Power BI report ?', 'Points - How do you add interactivity to a Power BI report ?', 'Feedback - How do you add interactivity to a Power BI report ?', \"What is the 'Drillthrough' feature used for in Power BI ?\", \"Points - What is the 'Drillthrough' feature used for in Power BI ?\", \"Feedback - What is the 'Drillthrough' feature used for in Power BI ?\", \"In QlikSense, What's the closest feature to Power BI's Bookmarks ?\", \"Points - In QlikSense, What's the closest feature to Power BI's Bookmarks ?\", \"Feedback - In QlikSense, What's the closest feature to Power BI's Bookmarks ?\", \"What is 'Data Modeling' in Power BI ?\", \"Points - What is 'Data Modeling' in Power BI ?\", \"Feedback - What is 'Data Modeling' in Power BI ?\", 'What does DAX help you achieve in Power BI ?', 'Points - What does DAX help you achieve in Power BI ?', 'Feedback - What does DAX help you achieve in Power BI ?', 'What is the best method to share a Power BI report publicly ?', 'Points - What is the best method to share a Power BI report publicly ?', 'Feedback - What is the best method to share a Power BI report publicly ?', 'How do you import data into Power BI ?', 'Feedback - How do you import data into Power BI ?', 'Points - How do you import data into Power BI ?']\n"
     ]
    }
   ],
   "source": [
    "# Print the column names to console\n",
    "print(df.columns.tolist())"
   ]
  },
  {
   "cell_type": "code",
   "execution_count": 24,
   "metadata": {},
   "outputs": [],
   "source": [
    "# Select only the columns with answers to questions\n",
    "answer_columns = [\"What is Power BI primarily used for ?\",\n",
    "                  \"In Power BI, Which visualization\\xa0would you use to display hierarchical relationships ?\",\n",
    "                  \"If you've used QlikSense, Which feature is similar to Power BI's Slicers ?\",\n",
    "                  \"How do you add interactivity to a Power BI report ?\",\n",
    "                  \"What is the 'Drillthrough' feature used for in Power BI ?\",\n",
    "                  \"In QlikSense, What's the closest feature to Power BI's Bookmarks ?\",\n",
    "                  \"What is 'Data Modeling' in Power BI ?\",\n",
    "                  \"What does DAX help you achieve in Power BI ?\",\n",
    "                  \"What is the best method to share a Power BI report publicly ?\",\n",
    "                  \"How do you import data into Power BI ?\"]"
   ]
  },
  {
   "cell_type": "code",
   "execution_count": 25,
   "metadata": {},
   "outputs": [
    {
     "data": {
      "text/html": [
       "<div>\n",
       "<style scoped>\n",
       "    .dataframe tbody tr th:only-of-type {\n",
       "        vertical-align: middle;\n",
       "    }\n",
       "\n",
       "    .dataframe tbody tr th {\n",
       "        vertical-align: top;\n",
       "    }\n",
       "\n",
       "    .dataframe thead th {\n",
       "        text-align: right;\n",
       "    }\n",
       "</style>\n",
       "<table border=\"1\" class=\"dataframe\">\n",
       "  <thead>\n",
       "    <tr style=\"text-align: right;\">\n",
       "      <th></th>\n",
       "      <th>What is Power BI primarily used for ?</th>\n",
       "      <th>In Power BI, Which visualization would you use to display hierarchical relationships ?</th>\n",
       "      <th>If you've used QlikSense, Which feature is similar to Power BI's Slicers ?</th>\n",
       "      <th>How do you add interactivity to a Power BI report ?</th>\n",
       "      <th>What is the 'Drillthrough' feature used for in Power BI ?</th>\n",
       "      <th>In QlikSense, What's the closest feature to Power BI's Bookmarks ?</th>\n",
       "      <th>What is 'Data Modeling' in Power BI ?</th>\n",
       "      <th>What does DAX help you achieve in Power BI ?</th>\n",
       "      <th>What is the best method to share a Power BI report publicly ?</th>\n",
       "      <th>How do you import data into Power BI ?</th>\n",
       "    </tr>\n",
       "  </thead>\n",
       "  <tbody>\n",
       "    <tr>\n",
       "      <th>0</th>\n",
       "      <td>Data Visualization</td>\n",
       "      <td>Tree Map</td>\n",
       "      <td>Filters</td>\n",
       "      <td>Both A and B</td>\n",
       "      <td>For exploring data at a more granular level</td>\n",
       "      <td>Sheet</td>\n",
       "      <td>Establishing relationships between tables</td>\n",
       "      <td>Advanced Calculations</td>\n",
       "      <td>Publish to Web</td>\n",
       "      <td>All of the above</td>\n",
       "    </tr>\n",
       "  </tbody>\n",
       "</table>\n",
       "</div>"
      ],
      "text/plain": [
       "  What is Power BI primarily used for ?  \\\n",
       "0                    Data Visualization   \n",
       "\n",
       "  In Power BI, Which visualization would you use to display hierarchical relationships ?  \\\n",
       "0                                           Tree Map                                       \n",
       "\n",
       "  If you've used QlikSense, Which feature is similar to Power BI's Slicers ?  \\\n",
       "0                                            Filters                           \n",
       "\n",
       "  How do you add interactivity to a Power BI report ?  \\\n",
       "0                                       Both A and B    \n",
       "\n",
       "  What is the 'Drillthrough' feature used for in Power BI ?  \\\n",
       "0        For exploring data at a more granular level          \n",
       "\n",
       "  In QlikSense, What's the closest feature to Power BI's Bookmarks ?  \\\n",
       "0                                              Sheet                   \n",
       "\n",
       "        What is 'Data Modeling' in Power BI ?  \\\n",
       "0  Establishing relationships between tables    \n",
       "\n",
       "  What does DAX help you achieve in Power BI ?  \\\n",
       "0                        Advanced Calculations   \n",
       "\n",
       "  What is the best method to share a Power BI report publicly ?  \\\n",
       "0                                     Publish to Web              \n",
       "\n",
       "  How do you import data into Power BI ?  \n",
       "0                       All of the above  "
      ]
     },
     "execution_count": 25,
     "metadata": {},
     "output_type": "execute_result"
    }
   ],
   "source": [
    "# Filter the DataFrame to only include these columns\n",
    "df_filtered = df[answer_columns]\n",
    "df_filtered.head()"
   ]
  },
  {
   "cell_type": "code",
   "execution_count": 26,
   "metadata": {},
   "outputs": [
    {
     "data": {
      "text/plain": [
       "['What is Power BI primarily used for ?',\n",
       " 'In Power BI, Which visualization\\xa0would you use to display hierarchical relationships ?',\n",
       " \"If you've used QlikSense, Which feature is similar to Power BI's Slicers ?\",\n",
       " 'How do you add interactivity to a Power BI report ?',\n",
       " \"What is the 'Drillthrough' feature used for in Power BI ?\",\n",
       " \"In QlikSense, What's the closest feature to Power BI's Bookmarks ?\",\n",
       " \"What is 'Data Modeling' in Power BI ?\",\n",
       " 'What does DAX help you achieve in Power BI ?',\n",
       " 'What is the best method to share a Power BI report publicly ?',\n",
       " 'How do you import data into Power BI ?']"
      ]
     },
     "execution_count": 26,
     "metadata": {},
     "output_type": "execute_result"
    }
   ],
   "source": [
    "# Ensure these columns are also stripped of spaces\n",
    "answer_columns = [col.strip() for col in answer_columns]\n",
    "answer_columns"
   ]
  },
  {
   "cell_type": "code",
   "execution_count": 27,
   "metadata": {},
   "outputs": [],
   "source": [
    "# Initialize an empty list to hold the categorizations\n",
    "categories = []"
   ]
  },
  {
   "cell_type": "code",
   "execution_count": 28,
   "metadata": {},
   "outputs": [],
   "source": [
    "# Loop through each row in the filtered DataFrame\n",
    "for index, row in df_filtered.iterrows():\n",
    "    score = 0\n",
    "    \n",
    "    # Sum up the scores based on the answers\n",
    "    # (assuming you've encoded answers as 1 for Basic, 2 for Medium, and 3 for Advanced)\n",
    "    for question in answer_columns:\n",
    "        if row[question] in ['Data Visualization', 'Both A and B', 'For exploring data at a more granular level', 'Advanced Calculations']:\n",
    "            score += 3\n",
    "        elif row[question] in ['Tree Map', 'Filters', 'Sheet', 'Establishing relationships between tables']:\n",
    "            score += 2\n",
    "        else:\n",
    "            score += 1\n",
    "    \n",
    "    # Categorize respondents\n",
    "    if score <= 10:\n",
    "        categories.append('Basic Training')\n",
    "    elif score <= 20:\n",
    "        categories.append('Medium Training')\n",
    "    else:\n",
    "        categories.append('Advanced Training')"
   ]
  },
  {
   "cell_type": "code",
   "execution_count": 29,
   "metadata": {},
   "outputs": [],
   "source": [
    "# Add the categories as a new column to the original DataFrame\n",
    "df['Training Level'] = categories"
   ]
  },
  {
   "cell_type": "code",
   "execution_count": 30,
   "metadata": {},
   "outputs": [],
   "source": [
    "# Save the updated DataFrame back to Excel\n",
    "df.to_excel(\"categorized_training_needs.xlsx\", index=False)"
   ]
  },
  {
   "cell_type": "code",
   "execution_count": null,
   "metadata": {},
   "outputs": [],
   "source": []
  }
 ],
 "metadata": {
  "kernelspec": {
   "display_name": "Python 3",
   "language": "python",
   "name": "python3"
  },
  "language_info": {
   "codemirror_mode": {
    "name": "ipython",
    "version": 3
   },
   "file_extension": ".py",
   "mimetype": "text/x-python",
   "name": "python",
   "nbconvert_exporter": "python",
   "pygments_lexer": "ipython3",
   "version": "3.11.4"
  },
  "orig_nbformat": 4
 },
 "nbformat": 4,
 "nbformat_minor": 2
}
